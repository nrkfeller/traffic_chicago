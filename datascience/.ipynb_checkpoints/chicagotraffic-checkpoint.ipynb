{
 "cells": [
  {
   "cell_type": "markdown",
   "metadata": {},
   "source": [
    "# Data Analysis of Region of Chicago Traffic\n",
    "1. Graph of speed over time in regions\n",
    "2. Histogram of speed in segments\n",
    "3. Autoencoder for identifying abnormal behavior\n",
    "4. Time series forcasting with LSTM"
   ]
  },
  {
   "cell_type": "code",
   "execution_count": 6,
   "metadata": {},
   "outputs": [
    {
     "name": "stdout",
     "output_type": "stream",
     "text": [
      "Requirement already satisfied: mpld3 in /Users/nicolasfeller/anaconda/lib/python2.7/site-packages\r\n",
      "Requirement already satisfied: keras in /Users/nicolasfeller/anaconda/lib/python2.7/site-packages\r\n",
      "Requirement already satisfied: scipy>=0.14 in /Users/nicolasfeller/anaconda/lib/python2.7/site-packages (from keras)\r\n",
      "Requirement already satisfied: six>=1.9.0 in /Users/nicolasfeller/anaconda/lib/python2.7/site-packages (from keras)\r\n",
      "Requirement already satisfied: numpy>=1.9.1 in /Users/nicolasfeller/anaconda/lib/python2.7/site-packages (from keras)\r\n",
      "Requirement already satisfied: pyyaml in /Users/nicolasfeller/anaconda/lib/python2.7/site-packages (from keras)\r\n"
     ]
    }
   ],
   "source": [
    "!pip install mpld3 keras"
   ]
  },
  {
   "cell_type": "code",
   "execution_count": 5,
   "metadata": {},
   "outputs": [
    {
     "ename": "ImportError",
     "evalue": "No module named 'google.datalab'",
     "output_type": "error",
     "traceback": [
      "\u001b[0;31m---------------------------------------------------------------------------\u001b[0m",
      "\u001b[0;31mImportError\u001b[0m                               Traceback (most recent call last)",
      "\u001b[0;32m<ipython-input-5-0b09b53e3b26>\u001b[0m in \u001b[0;36m<module>\u001b[0;34m()\u001b[0m\n\u001b[0;32m----> 1\u001b[0;31m \u001b[0;32mimport\u001b[0m \u001b[0mgoogle\u001b[0m\u001b[0;34m.\u001b[0m\u001b[0mdatalab\u001b[0m\u001b[0;34m.\u001b[0m\u001b[0mbigquery\u001b[0m \u001b[0;32mas\u001b[0m \u001b[0mbq\u001b[0m\u001b[0;34m\u001b[0m\u001b[0m\n\u001b[0m\u001b[1;32m      2\u001b[0m \u001b[0;32mimport\u001b[0m \u001b[0mpandas\u001b[0m \u001b[0;32mas\u001b[0m \u001b[0mpd\u001b[0m\u001b[0;34m\u001b[0m\u001b[0m\n\u001b[1;32m      3\u001b[0m \u001b[0;32mimport\u001b[0m \u001b[0mnumpy\u001b[0m \u001b[0;32mas\u001b[0m \u001b[0mnp\u001b[0m\u001b[0;34m\u001b[0m\u001b[0m\n\u001b[1;32m      4\u001b[0m \u001b[0;32mimport\u001b[0m \u001b[0mshutil\u001b[0m\u001b[0;34m\u001b[0m\u001b[0m\n\u001b[1;32m      5\u001b[0m \u001b[0;32mimport\u001b[0m \u001b[0mmatplotlib\u001b[0m\u001b[0;34m.\u001b[0m\u001b[0mpyplot\u001b[0m \u001b[0;32mas\u001b[0m \u001b[0mplt\u001b[0m\u001b[0;34m\u001b[0m\u001b[0m\n",
      "\u001b[0;31mImportError\u001b[0m: No module named 'google.datalab'"
     ]
    }
   ],
   "source": [
    "import google.datalab.bigquery as bq\n",
    "import pandas as pd\n",
    "import numpy as np\n",
    "import shutil\n",
    "import matplotlib.pyplot as plt\n",
    "import matplotlib.patches as mpatches\n",
    "from google.cloud import storage \n",
    "\n",
    "import mpld3\n",
    "\n",
    "mpld3.enable_notebook()\n",
    "\n",
    "plt.rcParams['figure.figsize'] = [20, 8]"
   ]
  },
  {
   "cell_type": "code",
   "execution_count": 7,
   "metadata": {},
   "outputs": [
    {
     "name": "stderr",
     "output_type": "stream",
     "text": [
      "UsageError: Line magic function `%bq` not found.\n"
     ]
    }
   ],
   "source": [
    "%bq tables describe --name demos.regions"
   ]
  },
  {
   "cell_type": "code",
   "execution_count": 348,
   "metadata": {
    "collapsed": true
   },
   "outputs": [],
   "source": [
    "%bq query -n distinct_regions\n",
    "SELECT DISTINCT\n",
    "  region\n",
    "FROM\n",
    "  `nickapi-184104.demos.regions`"
   ]
  },
  {
   "cell_type": "code",
   "execution_count": 349,
   "metadata": {
    "collapsed": true
   },
   "outputs": [],
   "source": [
    "regions = distinct_regions.execute().result().to_dataframe().region"
   ]
  },
  {
   "cell_type": "code",
   "execution_count": 350,
   "metadata": {},
   "outputs": [
    {
     "name": "stdout",
     "output_type": "stream",
     "text": [
      "0              Rogers Park - West Ridge\n",
      "1                        Far North West\n",
      "2          North Park-Albany-Linconl Sq\n",
      "3                     Edge Water-Uptown\n",
      "4         Dunning-Portage-Belmont Cragn\n",
      "5        Irving Park-Avondale-North Ctr\n",
      "6                  Hermosa-Logan Square\n",
      "7                Lincoln Park-Lake View\n",
      "8                                Austin\n",
      "9             Humboldt-Garfield Prk E/W\n",
      "10                  West Town-Near West\n",
      "11                           Near North\n",
      "12                         Chicago Loop\n",
      "13                         Lawndale N/S\n",
      "14       Bridgeport-McKinley-Lower West\n",
      "15                   Near South-Douglas\n",
      "16         Midway-Garfield Rdg-Clearing\n",
      "17                      South West Side\n",
      "18       New City-Englewood-W Englewood\n",
      "19    Fuller-Grand Blvd-Washington Park\n",
      "20           Hyde Park-Kenwood-Woodlawn\n",
      "21                              Ashburn\n",
      "22               Auburn Gresham-Chatham\n",
      "23          South Shore-S Chicago-Avlon\n",
      "24     Beverly-Mt Greenwood-Morgan Park\n",
      "25      Washington Hts-Roseland-Pullman\n",
      "26              South Deering-East Side\n",
      "27                  Riverdale-Hegewisch\n",
      "28                   Downtown Lakefront\n",
      "Name: region, dtype: object 29\n"
     ]
    }
   ],
   "source": [
    "print(regions), len(regions)"
   ]
  },
  {
   "cell_type": "markdown",
   "metadata": {},
   "source": [
    "# Get Data from Bigquery\n",
    "This query will get time and speed data from each region. This will allow us to build graphs!"
   ]
  },
  {
   "cell_type": "code",
   "execution_count": null,
   "metadata": {
    "collapsed": true
   },
   "outputs": [],
   "source": [
    "%bq query -n speed_at_regions\n",
    "SELECT \n",
    "   _last_updt, current_speed\n",
    "FROM \n",
    "  `nickapi-184104.demos.regions` \n",
    "WHERE\n",
    "  region=@REGION\n",
    "ORDER BY\n",
    "  _last_updt"
   ]
  },
  {
   "cell_type": "code",
   "execution_count": null,
   "metadata": {
    "collapsed": true
   },
   "outputs": [],
   "source": [
    "region_speeds = dict()\n",
    "for region in regions:\n",
    "  query_parameters = [\n",
    "    {\n",
    "      'name': 'REGION',\n",
    "      'parameterType': {'type': 'STRING'},\n",
    "      'parameterValue': {'value': region}\n",
    "    }\n",
    "  ]\n",
    "  region_frame = speed_at_regions.execute(query_params=query_parameters).result().to_dataframe()\n",
    "  region_speeds[region] = region_frame._last_updt, region_frame.current_speed"
   ]
  },
  {
   "cell_type": "code",
   "execution_count": null,
   "metadata": {
    "collapsed": true
   },
   "outputs": [],
   "source": [
    "# for region in regions:\n",
    "#   df = speed_at_regions.execute().result().to_dataframe()"
   ]
  },
  {
   "cell_type": "markdown",
   "metadata": {
    "collapsed": true
   },
   "source": [
    "# Speed in 29 Regions"
   ]
  },
  {
   "cell_type": "code",
   "execution_count": null,
   "metadata": {
    "collapsed": true
   },
   "outputs": [],
   "source": [
    "for region_name, region_data in region_speeds.items():\n",
    "  plt.plot(region_data[0], region_data[1], label=region_name)\n",
    "plt.legend(loc=2)\n",
    "plt.show()"
   ]
  },
  {
   "cell_type": "code",
   "execution_count": null,
   "metadata": {
    "collapsed": true
   },
   "outputs": [],
   "source": [
    "print(region_speeds.keys())"
   ]
  },
  {
   "cell_type": "code",
   "execution_count": null,
   "metadata": {
    "collapsed": true
   },
   "outputs": [],
   "source": [
    "name = 'Rogers Park - West Ridge'\n",
    "r = region_speeds[name]\n",
    "plt.plot(r[0], r[1], label=name)\n",
    "plt.legend(loc=2)\n",
    "plt.show()"
   ]
  },
  {
   "cell_type": "markdown",
   "metadata": {},
   "source": [
    "# Data Analysis on Segment of Chicago Traffic"
   ]
  },
  {
   "cell_type": "code",
   "execution_count": 15,
   "metadata": {},
   "outputs": [
    {
     "data": {
      "text/html": [
       "\n",
       "    <div class=\"bqsv\" id=\"2_152228768369\"></div>\n",
       "    <script src=\"/static/components/requirejs/require.js\"></script>\n",
       "    <script>\n",
       "      require.config({\n",
       "        paths: {\n",
       "          base: '/static/base',\n",
       "        },\n",
       "        map: {\n",
       "          '*': {\n",
       "            datalab: 'nbextensions/gcpdatalab'\n",
       "          }\n",
       "        },\n",
       "      });\n",
       "\n",
       "      require(['datalab/bigquery', 'datalab/element!2_152228768369',\n",
       "          'datalab/style!/nbextensions/gcpdatalab/bigquery.css'],\n",
       "        function(bq, dom) {\n",
       "          bq.renderSchema(dom, [{\"type\": \"STRING\", \"name\": \"_direction\", \"mode\": \"NULLABLE\"}, {\"type\": \"STRING\", \"name\": \"_fromst\", \"mode\": \"NULLABLE\"}, {\"type\": \"TIMESTAMP\", \"name\": \"_last_updt\", \"mode\": \"NULLABLE\"}, {\"type\": \"FLOAT\", \"name\": \"_length\", \"mode\": \"NULLABLE\"}, {\"type\": \"FLOAT\", \"name\": \"_lif_lat\", \"mode\": \"NULLABLE\"}, {\"type\": \"FLOAT\", \"name\": \"_lit_lat\", \"mode\": \"NULLABLE\"}, {\"type\": \"FLOAT\", \"name\": \"_lit_lon\", \"mode\": \"NULLABLE\"}, {\"type\": \"STRING\", \"name\": \"_strheading\", \"mode\": \"NULLABLE\"}, {\"type\": \"STRING\", \"name\": \"_tost\", \"mode\": \"NULLABLE\"}, {\"type\": \"FLOAT\", \"name\": \"_traffic\", \"mode\": \"NULLABLE\"}, {\"type\": \"INTEGER\", \"name\": \"segmentid\", \"mode\": \"NULLABLE\"}, {\"type\": \"FLOAT\", \"name\": \"start_lon\", \"mode\": \"NULLABLE\"}, {\"type\": \"STRING\", \"name\": \"street\", \"mode\": \"NULLABLE\"}, {\"type\": \"STRING\", \"name\": \"_comments\", \"mode\": \"NULLABLE\"}]);\n",
       "        }\n",
       "      );\n",
       "    </script>\n",
       "    "
      ],
      "text/plain": [
       "<IPython.core.display.HTML object>"
      ]
     },
     "execution_count": 15,
     "metadata": {},
     "output_type": "execute_result"
    }
   ],
   "source": [
    "%bq tables describe --name demos.segments"
   ]
  },
  {
   "cell_type": "code",
   "execution_count": 16,
   "metadata": {
    "collapsed": true
   },
   "outputs": [],
   "source": [
    "%bq query -n distinct_regions\n",
    "SELECT DISTINCT\n",
    "  _fromst\n",
    "FROM\n",
    "  `nickapi-184104.demos.segments`"
   ]
  },
  {
   "cell_type": "code",
   "execution_count": 17,
   "metadata": {},
   "outputs": [
    {
     "name": "stdout",
     "output_type": "stream",
     "text": [
      "152\n"
     ]
    }
   ],
   "source": [
    "segments = distinct_regions.execute().result().to_dataframe()._fromst\n",
    "print len(segments)"
   ]
  },
  {
   "cell_type": "code",
   "execution_count": 18,
   "metadata": {
    "collapsed": true
   },
   "outputs": [],
   "source": [
    "%bq query -n speed_at_segments\n",
    "SELECT \n",
    "   _last_updt, _traffic\n",
    "FROM \n",
    "  `nickapi-184104.demos.segments` \n",
    "WHERE\n",
    "  _fromst=@SEGMENT\n",
    "ORDER BY\n",
    "  _last_updt"
   ]
  },
  {
   "cell_type": "code",
   "execution_count": 19,
   "metadata": {
    "collapsed": true
   },
   "outputs": [],
   "source": [
    "# segment_speeds = dict()\n",
    "# for segment in segments:\n",
    "#   query_parameters = [\n",
    "#     {\n",
    "#       'name': 'SEGMENT',\n",
    "#       'parameterType': {'type': 'STRING'},\n",
    "#       'parameterValue': {'value': segment}\n",
    "#     }\n",
    "#   ]\n",
    "#   segment_frame = speed_at_segments.execute(query_params=query_parameters).result().to_dataframe()\n",
    "#   segment_speeds[segment] = segment_frame._last_updt, segment_frame._traffic"
   ]
  },
  {
   "cell_type": "code",
   "execution_count": 20,
   "metadata": {
    "collapsed": true
   },
   "outputs": [],
   "source": [
    "%bq query -n speed_at_segments\n",
    "SELECT _last_updt, segmentid, _traffic\n",
    "FROM `nickapi-184104.demos.segments`   \n",
    "ORDER BY\n",
    "  _last_updt desc\n",
    "LIMIT 1000"
   ]
  },
  {
   "cell_type": "code",
   "execution_count": 21,
   "metadata": {
    "collapsed": true
   },
   "outputs": [],
   "source": [
    "df = speed_at_segments.execute().result().to_dataframe()"
   ]
  },
  {
   "cell_type": "code",
   "execution_count": 22,
   "metadata": {},
   "outputs": [
    {
     "data": {
      "text/plain": [
       "1000"
      ]
     },
     "execution_count": 22,
     "metadata": {},
     "output_type": "execute_result"
    }
   ],
   "source": [
    "len(list(df['segmentid']))"
   ]
  },
  {
   "cell_type": "code",
   "execution_count": 23,
   "metadata": {},
   "outputs": [
    {
     "data": {
      "text/plain": [
       "824"
      ]
     },
     "execution_count": 23,
     "metadata": {},
     "output_type": "execute_result"
    }
   ],
   "source": [
    "df = df.drop_duplicates(subset='segmentid', keep=\"first\")\n",
    "len(list(df['segmentid']))"
   ]
  },
  {
   "cell_type": "code",
   "execution_count": 24,
   "metadata": {},
   "outputs": [
    {
     "data": {
      "text/plain": [
       "array([[<matplotlib.axes._subplots.AxesSubplot object at 0x7fa17d449710>]],\n",
       "      dtype=object)"
      ]
     },
     "execution_count": 24,
     "metadata": {},
     "output_type": "execute_result"
    },
    {
     "data": {
      "image/png": "[encoded data removed]",
      "text/html": [
       "\n",
       "\n",
       "<style>\n",
       "\n",
       "</style>\n",
       "\n",
       "<div id=\"fig_el148581403315660724008314612494\"></div>\n",
       "<script>\n",
       "function mpld3_load_lib(url, callback){\n",
       "  var s = document.createElement('script');\n",
       "  s.src = url;\n",
       "  s.async = true;\n",
       "  s.onreadystatechange = s.onload = callback;\n",
       "  s.onerror = function(){console.warn(\"failed to load library \" + url);};\n",
       "  document.getElementsByTagName(\"head\")[0].appendChild(s);\n",
       "}\n",
       "\n",
       "if(typeof(mpld3) !== \"undefined\" && mpld3._mpld3IsLoaded){\n",
       "   // already loaded: just create the figure\n",
       "   !function(mpld3){\n",
       "       \n",
       "       mpld3.draw_figure(\"fig_el148581403315660724008314612494\", {\"axes\": [{\"xlim\": [-3.8, 57.79999999999999], \"yscale\": \"linear\", \"axesbg\": \"#EAEAF2\", \"texts\": [{\"v_baseline\": \"auto\", \"h_anchor\": \"middle\", \"color\": \"#262626\", \"text\": \"_traffic\", \"coordinates\": \"axes\", \"zorder\": 3, \"alpha\": 1, \"fontsize\": 12.0, \"position\": [0.5, 1.0137969094922736], \"rotation\": -0.0, \"id\": \"el14858140331570365264\"}], \"zoomable\": true, \"images\": [], \"xdomain\": [-3.8, 57.79999999999999], \"ylim\": [0.0, 264.6], \"paths\": [{\"edgecolor\": \"none\", \"facecolor\": \"#4C72B0\", \"edgewidth\": 0.3, \"pathcodes\": [\"M\", \"L\", \"L\", \"L\", \"Z\"], \"yindex\": 1, \"coordinates\": \"data\", \"dasharray\": \"none\", \"zorder\": 1, \"alpha\": 1, \"xindex\": 0, \"data\": \"data01\", \"id\": \"el14858140331571290000\"}, {\"edgecolor\": \"none\", \"facecolor\": \"#4C72B0\", \"edgewidth\": 0.3, \"pathcodes\": [\"M\", \"L\", \"L\", \"L\", \"Z\"], \"yindex\": 1, \"coordinates\": \"data\", \"dasharray\": \"none\", \"zorder\": 1, \"alpha\": 1, \"xindex\": 0, \"data\": \"data02\", \"id\": \"el14858140331571287504\"}, {\"edgecolor\": \"none\", \"facecolor\": \"#4C72B0\", \"edgewidth\": 0.3, \"pathcodes\": [\"M\", \"L\", \"L\", \"L\", \"Z\"], \"yindex\": 1, \"coordinates\": \"data\", \"dasharray\": \"none\", \"zorder\": 1, \"alpha\": 1, \"xindex\": 2, \"data\": \"data02\", \"id\": \"el14858140331571286544\"}, {\"edgecolor\": \"none\", \"facecolor\": \"#4C72B0\", \"edgewidth\": 0.3, \"pathcodes\": [\"M\", \"L\", \"L\", \"L\", \"Z\"], \"yindex\": 1, \"coordinates\": \"data\", \"dasharray\": \"none\", \"zorder\": 1, \"alpha\": 1, \"xindex\": 3, \"data\": \"data02\", \"id\": \"el14858140331571286608\"}, {\"edgecolor\": \"none\", \"facecolor\": \"#4C72B0\", \"edgewidth\": 0.3, \"pathcodes\": [\"M\", \"L\", \"L\", \"L\", \"Z\"], \"yindex\": 1, \"coordinates\": \"data\", \"dasharray\": \"none\", \"zorder\": 1, \"alpha\": 1, \"xindex\": 4, \"data\": \"data02\", \"id\": \"el14858140331571289552\"}, {\"edgecolor\": \"none\", \"facecolor\": \"#4C72B0\", \"edgewidth\": 0.3, \"pathcodes\": [\"M\", \"L\", \"L\", \"L\", \"Z\"], \"yindex\": 1, \"coordinates\": \"data\", \"dasharray\": \"none\", \"zorder\": 1, \"alpha\": 1, \"xindex\": 0, \"data\": \"data03\", \"id\": \"el14858140331570814416\"}, {\"edgecolor\": \"none\", \"facecolor\": \"#4C72B0\", \"edgewidth\": 0.3, \"pathcodes\": [\"M\", \"L\", \"L\", \"L\", \"Z\"], \"yindex\": 1, \"coordinates\": \"data\", \"dasharray\": \"none\", \"zorder\": 1, \"alpha\": 1, \"xindex\": 0, \"data\": \"data04\", \"id\": \"el14858140331570812240\"}, {\"edgecolor\": \"none\", \"facecolor\": \"#4C72B0\", \"edgewidth\": 0.3, \"pathcodes\": [\"M\", \"L\", \"L\", \"L\", \"Z\"], \"yindex\": 1, \"coordinates\": \"data\", \"dasharray\": \"none\", \"zorder\": 1, \"alpha\": 1, \"xindex\": 0, \"data\": \"data05\", \"id\": \"el14858140331570811344\"}, {\"edgecolor\": \"none\", \"facecolor\": \"#4C72B0\", \"edgewidth\": 0.3, \"pathcodes\": [\"M\", \"L\", \"L\", \"L\", \"Z\"], \"yindex\": 1, \"coordinates\": \"data\", \"dasharray\": \"none\", \"zorder\": 1, \"alpha\": 1, \"xindex\": 0, \"data\": \"data06\", \"id\": \"el14858140331570813776\"}, {\"edgecolor\": \"none\", \"facecolor\": \"#4C72B0\", \"edgewidth\": 0.3, \"pathcodes\": [\"M\", \"L\", \"L\", \"L\", \"Z\"], \"yindex\": 1, \"coordinates\": \"data\", \"dasharray\": \"none\", \"zorder\": 1, \"alpha\": 1, \"xindex\": 0, \"data\": \"data07\", \"id\": \"el14858140331570896528\"}, {\"edgecolor\": \"none\", \"facecolor\": \"#4C72B0\", \"edgewidth\": 0.3, \"pathcodes\": [\"M\", \"L\", \"L\", \"L\", \"Z\"], \"yindex\": 1, \"coordinates\": \"data\", \"dasharray\": \"none\", \"zorder\": 1, \"alpha\": 1, \"xindex\": 0, \"data\": \"data08\", \"id\": \"el14858140331571576208\"}, {\"edgecolor\": \"none\", \"facecolor\": \"#4C72B0\", \"edgewidth\": 0.3, \"pathcodes\": [\"M\", \"L\", \"L\", \"L\", \"Z\"], \"yindex\": 1, \"coordinates\": \"data\", \"dasharray\": \"none\", \"zorder\": 1, \"alpha\": 1, \"xindex\": 0, \"data\": \"data09\", \"id\": \"el14858140331571576400\"}, {\"edgecolor\": \"none\", \"facecolor\": \"#4C72B0\", \"edgewidth\": 0.3, \"pathcodes\": [\"M\", \"L\", \"L\", \"L\", \"Z\"], \"yindex\": 1, \"coordinates\": \"data\", \"dasharray\": \"none\", \"zorder\": 1, \"alpha\": 1, \"xindex\": 0, \"data\": \"data10\", \"id\": \"el14858140331566443536\"}, {\"edgecolor\": \"none\", \"facecolor\": \"#4C72B0\", \"edgewidth\": 0.3, \"pathcodes\": [\"M\", \"L\", \"L\", \"L\", \"Z\"], \"yindex\": 1, \"coordinates\": \"data\", \"dasharray\": \"none\", \"zorder\": 1, \"alpha\": 1, \"xindex\": 0, \"data\": \"data11\", \"id\": \"el14858140331570368016\"}, {\"edgecolor\": \"none\", \"facecolor\": \"#4C72B0\", \"edgewidth\": 0.3, \"pathcodes\": [\"M\", \"L\", \"L\", \"L\", \"Z\"], \"yindex\": 1, \"coordinates\": \"data\", \"dasharray\": \"none\", \"zorder\": 1, \"alpha\": 1, \"xindex\": 0, \"data\": \"data12\", \"id\": \"el14858140331566074896\"}, {\"edgecolor\": \"none\", \"facecolor\": \"#4C72B0\", \"edgewidth\": 0.3, \"pathcodes\": [\"M\", \"L\", \"L\", \"L\", \"Z\"], \"yindex\": 1, \"coordinates\": \"data\", \"dasharray\": \"none\", \"zorder\": 1, \"alpha\": 1, \"xindex\": 0, \"data\": \"data13\", \"id\": \"el14858140331570894480\"}, {\"edgecolor\": \"none\", \"facecolor\": \"#4C72B0\", \"edgewidth\": 0.3, \"pathcodes\": [\"M\", \"L\", \"L\", \"L\", \"Z\"], \"yindex\": 1, \"coordinates\": \"data\", \"dasharray\": \"none\", \"zorder\": 1, \"alpha\": 1, \"xindex\": 0, \"data\": \"data14\", \"id\": \"el14858140331570896848\"}, {\"edgecolor\": \"none\", \"facecolor\": \"#4C72B0\", \"edgewidth\": 0.3, \"pathcodes\": [\"M\", \"L\", \"L\", \"L\", \"Z\"], \"yindex\": 1, \"coordinates\": \"data\", \"dasharray\": \"none\", \"zorder\": 1, \"alpha\": 1, \"xindex\": 0, \"data\": \"data15\", \"id\": \"el14858140331570852560\"}, {\"edgecolor\": \"none\", \"facecolor\": \"#4C72B0\", \"edgewidth\": 0.3, \"pathcodes\": [\"M\", \"L\", \"L\", \"L\", \"Z\"], \"yindex\": 1, \"coordinates\": \"data\", \"dasharray\": \"none\", \"zorder\": 1, \"alpha\": 1, \"xindex\": 2, \"data\": \"data15\", \"id\": \"el14858140331570852368\"}, {\"edgecolor\": \"none\", \"facecolor\": \"#4C72B0\", \"edgewidth\": 0.3, \"pathcodes\": [\"M\", \"L\", \"L\", \"L\", \"Z\"], \"yindex\": 1, \"coordinates\": \"data\", \"dasharray\": \"none\", \"zorder\": 1, \"alpha\": 1, \"xindex\": 0, \"data\": \"data16\", \"id\": \"el14858140331570854288\"}, {\"edgecolor\": \"none\", \"facecolor\": \"#4C72B0\", \"edgewidth\": 0.3, \"pathcodes\": [\"M\", \"L\", \"L\", \"L\", \"Z\"], \"yindex\": 1, \"coordinates\": \"data\", \"dasharray\": \"none\", \"zorder\": 1, \"alpha\": 1, \"xindex\": 0, \"data\": \"data17\", \"id\": \"el14858140331570855184\"}, {\"edgecolor\": \"none\", \"facecolor\": \"#4C72B0\", \"edgewidth\": 0.3, \"pathcodes\": [\"M\", \"L\", \"L\", \"L\", \"Z\"], \"yindex\": 1, \"coordinates\": \"data\", \"dasharray\": \"none\", \"zorder\": 1, \"alpha\": 1, \"xindex\": 2, \"data\": \"data03\", \"id\": \"el14858140331570930448\"}, {\"edgecolor\": \"none\", \"facecolor\": \"#4C72B0\", \"edgewidth\": 0.3, \"pathcodes\": [\"M\", \"L\", \"L\", \"L\", \"Z\"], \"yindex\": 1, \"coordinates\": \"data\", \"dasharray\": \"none\", \"zorder\": 1, \"alpha\": 1, \"xindex\": 5, \"data\": \"data02\", \"id\": \"el14858140331570930192\"}, {\"edgecolor\": \"none\", \"facecolor\": \"#4C72B0\", \"edgewidth\": 0.3, \"pathcodes\": [\"M\", \"L\", \"L\", \"L\", \"Z\"], \"yindex\": 1, \"coordinates\": \"data\", \"dasharray\": \"none\", \"zorder\": 1, \"alpha\": 1, \"xindex\": 0, \"data\": \"data18\", \"id\": \"el14858140331570931792\"}, {\"edgecolor\": \"none\", \"facecolor\": \"#4C72B0\", \"edgewidth\": 0.3, \"pathcodes\": [\"M\", \"L\", \"L\", \"L\", \"Z\"], \"yindex\": 1, \"coordinates\": \"data\", \"dasharray\": \"none\", \"zorder\": 1, \"alpha\": 1, \"xindex\": 3, \"data\": \"data03\", \"id\": \"el14858140331570933072\"}, {\"edgecolor\": \"none\", \"facecolor\": \"#4C72B0\", \"edgewidth\": 0.3, \"pathcodes\": [\"M\", \"L\", \"L\", \"L\", \"Z\"], \"yindex\": 1, \"coordinates\": \"data\", \"dasharray\": \"none\", \"zorder\": 1, \"alpha\": 1, \"xindex\": 4, \"data\": \"data03\", \"id\": \"el14858140331571018576\"}, {\"edgecolor\": \"none\", \"facecolor\": \"#4C72B0\", \"edgewidth\": 0.3, \"pathcodes\": [\"M\", \"L\", \"L\", \"L\", \"Z\"], \"yindex\": 1, \"coordinates\": \"data\", \"dasharray\": \"none\", \"zorder\": 1, \"alpha\": 1, \"xindex\": 2, \"data\": \"data16\", \"id\": \"el14858140331571015824\"}, {\"edgecolor\": \"none\", \"facecolor\": \"#4C72B0\", \"edgewidth\": 0.3, \"pathcodes\": [\"M\", \"L\", \"L\", \"L\", \"Z\"], \"yindex\": 1, \"coordinates\": \"data\", \"dasharray\": \"none\", \"zorder\": 1, \"alpha\": 1, \"xindex\": 5, \"data\": \"data03\", \"id\": \"el14858140331571018192\"}, {\"edgecolor\": \"none\", \"facecolor\": \"#4C72B0\", \"edgewidth\": 0.3, \"pathcodes\": [\"M\", \"L\", \"L\", \"L\", \"Z\"], \"yindex\": 1, \"coordinates\": \"data\", \"dasharray\": \"none\", \"zorder\": 1, \"alpha\": 1, \"xindex\": 2, \"data\": \"data05\", \"id\": \"el14858140331571018704\"}, {\"edgecolor\": \"none\", \"facecolor\": \"#4C72B0\", \"edgewidth\": 0.3, \"pathcodes\": [\"M\", \"L\", \"L\", \"L\", \"Z\"], \"yindex\": 1, \"coordinates\": \"data\", \"dasharray\": \"none\", \"zorder\": 1, \"alpha\": 1, \"xindex\": 2, \"data\": \"data17\", \"id\": \"el14858140331570540176\"}], \"sharey\": [], \"sharex\": [], \"axesbgalpha\": null, \"axes\": [{\"scale\": \"linear\", \"tickformat\": null, \"grid\": {\"color\": \"#FFFFFF\", \"alpha\": 1.0, \"dasharray\": \"none\", \"gridOn\": true}, \"visible\": true, \"fontsize\": 10.0, \"position\": \"bottom\", \"nticks\": 8, \"tickvalues\": null}, {\"scale\": \"linear\", \"tickformat\": null, \"grid\": {\"color\": \"#FFFFFF\", \"alpha\": 1.0, \"dasharray\": \"none\", \"gridOn\": true}, \"visible\": true, \"fontsize\": 10.0, \"position\": \"left\", \"nticks\": 7, \"tickvalues\": null}], \"lines\": [], \"markers\": [], \"id\": \"el14858140331568109328\", \"ydomain\": [0.0, 264.6], \"collections\": [], \"xscale\": \"linear\", \"bbox\": [0.125, 0.125, 0.775, 0.755]}], \"height\": 576.0, \"width\": 1440.0, \"plugins\": [{\"type\": \"reset\"}, {\"enabled\": false, \"button\": true, \"type\": \"zoom\"}, {\"enabled\": false, \"button\": true, \"type\": \"boxzoom\"}], \"data\": {\"data12\": [[25.133333333333333, 0.0], [27.0, 0.0], [27.0, 29.0], [25.133333333333333, 29.0]], \"data16\": [[34.46666666666667, 0.0, 47.53333333333333], [36.333333333333336, 0.0, 49.4], [36.333333333333336, 4.0, 49.4], [34.46666666666667, 4.0, 47.53333333333333]], \"data11\": [[23.266666666666666, 0.0], [25.133333333333333, 0.0], [25.133333333333333, 78.0], [23.266666666666666, 78.0]], \"data17\": [[36.33333333333333, 0.0, 53.133333333333326], [38.199999999999996, 0.0, 54.99999999999999], [38.199999999999996, 5.0, 54.99999999999999], [36.33333333333333, 5.0, 53.133333333333326]], \"data14\": [[28.866666666666667, 0.0], [30.733333333333334, 0.0], [30.733333333333334, 33.0], [28.866666666666667, 33.0]], \"data10\": [[21.4, 0.0], [23.266666666666666, 0.0], [23.266666666666666, 89.0], [21.4, 89.0]], \"data15\": [[30.733333333333334, 0.0, 32.599999999999994], [32.6, 0.0, 34.46666666666666], [32.6, 16.0, 34.46666666666666], [30.733333333333334, 16.0, 32.599999999999994]], \"data18\": [[41.93333333333334, 0.0], [43.8, 0.0], [43.8, 3.0], [41.93333333333334, 3.0]], \"data08\": [[17.666666666666668, 0.0], [19.533333333333335, 0.0], [19.533333333333335, 71.0], [17.666666666666668, 71.0]], \"data09\": [[19.53333333333334, 0.0], [21.400000000000002, 0.0], [21.400000000000002, 63.0], [19.53333333333334, 63.0]], \"data06\": [[13.933333333333334, 0.0], [15.8, 0.0], [15.8, 25.0], [13.933333333333334, 25.0]], \"data07\": [[15.8, 0.0], [17.666666666666668, 0.0], [17.666666666666668, 58.0], [15.8, 58.0]], \"data04\": [[10.2, 0.0], [12.066666666666666, 0.0], [12.066666666666666, 14.0], [10.2, 14.0]], \"data05\": [[12.066666666666666, 0.0, 51.266666666666666], [13.933333333333334, 0.0, 53.13333333333333], [13.933333333333334, 2.0, 53.13333333333333], [12.066666666666666, 2.0, 51.266666666666666]], \"data02\": [[0.8666666666666667, 0.0, 2.7333333333333334, 4.6, 6.466666666666667, 40.06666666666666], [2.7333333333333334, 0.0, 4.6, 6.466666666666667, 8.333333333333334, 41.93333333333333], [2.7333333333333334, 0.0, 4.6, 6.466666666666667, 8.333333333333334, 41.93333333333333], [0.8666666666666667, 0.0, 2.7333333333333334, 4.6, 6.466666666666667, 40.06666666666666]], \"data03\": [[8.333333333333332, 0.0, 38.2, 43.8, 45.66666666666666, 49.39999999999999], [10.199999999999998, 0.0, 40.06666666666667, 45.666666666666664, 47.533333333333324, 51.26666666666666], [10.199999999999998, 1.0, 40.06666666666667, 45.666666666666664, 47.533333333333324, 51.26666666666666], [8.333333333333332, 1.0, 38.2, 43.8, 45.66666666666666, 49.39999999999999]], \"data13\": [[27.0, 0.0], [28.866666666666667, 0.0], [28.866666666666667, 50.0], [27.0, 50.0]], \"data01\": [[-1.0, 0.0], [0.8666666666666667, 0.0], [0.8666666666666667, 252.0], [-1.0, 252.0]]}, \"id\": \"el14858140331566072400\"});\n",
       "   }(mpld3);\n",
       "}else if(typeof define === \"function\" && define.amd){\n",
       "   // require.js is available: use it to load d3/mpld3\n",
       "   require.config({paths: {d3: \"https://mpld3.github.io/js/d3.v3.min\"}});\n",
       "   require([\"d3\"], function(d3){\n",
       "      window.d3 = d3;\n",
       "      mpld3_load_lib(\"https://mpld3.github.io/js/mpld3.v0.3.js\", function(){\n",
       "         \n",
       "         mpld3.draw_figure(\"fig_el148581403315660724008314612494\", {\"axes\": [{\"xlim\": [-3.8, 57.79999999999999], \"yscale\": \"linear\", \"axesbg\": \"#EAEAF2\", \"texts\": [{\"v_baseline\": \"auto\", \"h_anchor\": \"middle\", \"color\": \"#262626\", \"text\": \"_traffic\", \"coordinates\": \"axes\", \"zorder\": 3, \"alpha\": 1, \"fontsize\": 12.0, \"position\": [0.5, 1.0137969094922736], \"rotation\": -0.0, \"id\": \"el14858140331570365264\"}], \"zoomable\": true, \"images\": [], \"xdomain\": [-3.8, 57.79999999999999], \"ylim\": [0.0, 264.6], \"paths\": [{\"edgecolor\": \"none\", \"facecolor\": \"#4C72B0\", \"edgewidth\": 0.3, \"pathcodes\": [\"M\", \"L\", \"L\", \"L\", \"Z\"], \"yindex\": 1, \"coordinates\": \"data\", \"dasharray\": \"none\", \"zorder\": 1, \"alpha\": 1, \"xindex\": 0, \"data\": \"data01\", \"id\": \"el14858140331571290000\"}, {\"edgecolor\": \"none\", \"facecolor\": \"#4C72B0\", \"edgewidth\": 0.3, \"pathcodes\": [\"M\", \"L\", \"L\", \"L\", \"Z\"], \"yindex\": 1, \"coordinates\": \"data\", \"dasharray\": \"none\", \"zorder\": 1, \"alpha\": 1, \"xindex\": 0, \"data\": \"data02\", \"id\": \"el14858140331571287504\"}, {\"edgecolor\": \"none\", \"facecolor\": \"#4C72B0\", \"edgewidth\": 0.3, \"pathcodes\": [\"M\", \"L\", \"L\", \"L\", \"Z\"], \"yindex\": 1, \"coordinates\": \"data\", \"dasharray\": \"none\", \"zorder\": 1, \"alpha\": 1, \"xindex\": 2, \"data\": \"data02\", \"id\": \"el14858140331571286544\"}, {\"edgecolor\": \"none\", \"facecolor\": \"#4C72B0\", \"edgewidth\": 0.3, \"pathcodes\": [\"M\", \"L\", \"L\", \"L\", \"Z\"], \"yindex\": 1, \"coordinates\": \"data\", \"dasharray\": \"none\", \"zorder\": 1, \"alpha\": 1, \"xindex\": 3, \"data\": \"data02\", \"id\": \"el14858140331571286608\"}, {\"edgecolor\": \"none\", \"facecolor\": \"#4C72B0\", \"edgewidth\": 0.3, \"pathcodes\": [\"M\", \"L\", \"L\", \"L\", \"Z\"], \"yindex\": 1, \"coordinates\": \"data\", \"dasharray\": \"none\", \"zorder\": 1, \"alpha\": 1, \"xindex\": 4, \"data\": \"data02\", \"id\": \"el14858140331571289552\"}, {\"edgecolor\": \"none\", \"facecolor\": \"#4C72B0\", \"edgewidth\": 0.3, \"pathcodes\": [\"M\", \"L\", \"L\", \"L\", \"Z\"], \"yindex\": 1, \"coordinates\": \"data\", \"dasharray\": \"none\", \"zorder\": 1, \"alpha\": 1, \"xindex\": 0, \"data\": \"data03\", \"id\": \"el14858140331570814416\"}, {\"edgecolor\": \"none\", \"facecolor\": \"#4C72B0\", \"edgewidth\": 0.3, \"pathcodes\": [\"M\", \"L\", \"L\", \"L\", \"Z\"], \"yindex\": 1, \"coordinates\": \"data\", \"dasharray\": \"none\", \"zorder\": 1, \"alpha\": 1, \"xindex\": 0, \"data\": \"data04\", \"id\": \"el14858140331570812240\"}, {\"edgecolor\": \"none\", \"facecolor\": \"#4C72B0\", \"edgewidth\": 0.3, \"pathcodes\": [\"M\", \"L\", \"L\", \"L\", \"Z\"], \"yindex\": 1, \"coordinates\": \"data\", \"dasharray\": \"none\", \"zorder\": 1, \"alpha\": 1, \"xindex\": 0, \"data\": \"data05\", \"id\": \"el14858140331570811344\"}, {\"edgecolor\": \"none\", \"facecolor\": \"#4C72B0\", \"edgewidth\": 0.3, \"pathcodes\": [\"M\", \"L\", \"L\", \"L\", \"Z\"], \"yindex\": 1, \"coordinates\": \"data\", \"dasharray\": \"none\", \"zorder\": 1, \"alpha\": 1, \"xindex\": 0, \"data\": \"data06\", \"id\": \"el14858140331570813776\"}, {\"edgecolor\": \"none\", \"facecolor\": \"#4C72B0\", \"edgewidth\": 0.3, \"pathcodes\": [\"M\", \"L\", \"L\", \"L\", \"Z\"], \"yindex\": 1, \"coordinates\": \"data\", \"dasharray\": \"none\", \"zorder\": 1, \"alpha\": 1, \"xindex\": 0, \"data\": \"data07\", \"id\": \"el14858140331570896528\"}, {\"edgecolor\": \"none\", \"facecolor\": \"#4C72B0\", \"edgewidth\": 0.3, \"pathcodes\": [\"M\", \"L\", \"L\", \"L\", \"Z\"], \"yindex\": 1, \"coordinates\": \"data\", \"dasharray\": \"none\", \"zorder\": 1, \"alpha\": 1, \"xindex\": 0, \"data\": \"data08\", \"id\": \"el14858140331571576208\"}, {\"edgecolor\": \"none\", \"facecolor\": \"#4C72B0\", \"edgewidth\": 0.3, \"pathcodes\": [\"M\", \"L\", \"L\", \"L\", \"Z\"], \"yindex\": 1, \"coordinates\": \"data\", \"dasharray\": \"none\", \"zorder\": 1, \"alpha\": 1, \"xindex\": 0, \"data\": \"data09\", \"id\": \"el14858140331571576400\"}, {\"edgecolor\": \"none\", \"facecolor\": \"#4C72B0\", \"edgewidth\": 0.3, \"pathcodes\": [\"M\", \"L\", \"L\", \"L\", \"Z\"], \"yindex\": 1, \"coordinates\": \"data\", \"dasharray\": \"none\", \"zorder\": 1, \"alpha\": 1, \"xindex\": 0, \"data\": \"data10\", \"id\": \"el14858140331566443536\"}, {\"edgecolor\": \"none\", \"facecolor\": \"#4C72B0\", \"edgewidth\": 0.3, \"pathcodes\": [\"M\", \"L\", \"L\", \"L\", \"Z\"], \"yindex\": 1, \"coordinates\": \"data\", \"dasharray\": \"none\", \"zorder\": 1, \"alpha\": 1, \"xindex\": 0, \"data\": \"data11\", \"id\": \"el14858140331570368016\"}, {\"edgecolor\": \"none\", \"facecolor\": \"#4C72B0\", \"edgewidth\": 0.3, \"pathcodes\": [\"M\", \"L\", \"L\", \"L\", \"Z\"], \"yindex\": 1, \"coordinates\": \"data\", \"dasharray\": \"none\", \"zorder\": 1, \"alpha\": 1, \"xindex\": 0, \"data\": \"data12\", \"id\": \"el14858140331566074896\"}, {\"edgecolor\": \"none\", \"facecolor\": \"#4C72B0\", \"edgewidth\": 0.3, \"pathcodes\": [\"M\", \"L\", \"L\", \"L\", \"Z\"], \"yindex\": 1, \"coordinates\": \"data\", \"dasharray\": \"none\", \"zorder\": 1, \"alpha\": 1, \"xindex\": 0, \"data\": \"data13\", \"id\": \"el14858140331570894480\"}, {\"edgecolor\": \"none\", \"facecolor\": \"#4C72B0\", \"edgewidth\": 0.3, \"pathcodes\": [\"M\", \"L\", \"L\", \"L\", \"Z\"], \"yindex\": 1, \"coordinates\": \"data\", \"dasharray\": \"none\", \"zorder\": 1, \"alpha\": 1, \"xindex\": 0, \"data\": \"data14\", \"id\": \"el14858140331570896848\"}, {\"edgecolor\": \"none\", \"facecolor\": \"#4C72B0\", \"edgewidth\": 0.3, \"pathcodes\": [\"M\", \"L\", \"L\", \"L\", \"Z\"], \"yindex\": 1, \"coordinates\": \"data\", \"dasharray\": \"none\", \"zorder\": 1, \"alpha\": 1, \"xindex\": 0, \"data\": \"data15\", \"id\": \"el14858140331570852560\"}, {\"edgecolor\": \"none\", \"facecolor\": \"#4C72B0\", \"edgewidth\": 0.3, \"pathcodes\": [\"M\", \"L\", \"L\", \"L\", \"Z\"], \"yindex\": 1, \"coordinates\": \"data\", \"dasharray\": \"none\", \"zorder\": 1, \"alpha\": 1, \"xindex\": 2, \"data\": \"data15\", \"id\": \"el14858140331570852368\"}, {\"edgecolor\": \"none\", \"facecolor\": \"#4C72B0\", \"edgewidth\": 0.3, \"pathcodes\": [\"M\", \"L\", \"L\", \"L\", \"Z\"], \"yindex\": 1, \"coordinates\": \"data\", \"dasharray\": \"none\", \"zorder\": 1, \"alpha\": 1, \"xindex\": 0, \"data\": \"data16\", \"id\": \"el14858140331570854288\"}, {\"edgecolor\": \"none\", \"facecolor\": \"#4C72B0\", \"edgewidth\": 0.3, \"pathcodes\": [\"M\", \"L\", \"L\", \"L\", \"Z\"], \"yindex\": 1, \"coordinates\": \"data\", \"dasharray\": \"none\", \"zorder\": 1, \"alpha\": 1, \"xindex\": 0, \"data\": \"data17\", \"id\": \"el14858140331570855184\"}, {\"edgecolor\": \"none\", \"facecolor\": \"#4C72B0\", \"edgewidth\": 0.3, \"pathcodes\": [\"M\", \"L\", \"L\", \"L\", \"Z\"], \"yindex\": 1, \"coordinates\": \"data\", \"dasharray\": \"none\", \"zorder\": 1, \"alpha\": 1, \"xindex\": 2, \"data\": \"data03\", \"id\": \"el14858140331570930448\"}, {\"edgecolor\": \"none\", \"facecolor\": \"#4C72B0\", \"edgewidth\": 0.3, \"pathcodes\": [\"M\", \"L\", \"L\", \"L\", \"Z\"], \"yindex\": 1, \"coordinates\": \"data\", \"dasharray\": \"none\", \"zorder\": 1, \"alpha\": 1, \"xindex\": 5, \"data\": \"data02\", \"id\": \"el14858140331570930192\"}, {\"edgecolor\": \"none\", \"facecolor\": \"#4C72B0\", \"edgewidth\": 0.3, \"pathcodes\": [\"M\", \"L\", \"L\", \"L\", \"Z\"], \"yindex\": 1, \"coordinates\": \"data\", \"dasharray\": \"none\", \"zorder\": 1, \"alpha\": 1, \"xindex\": 0, \"data\": \"data18\", \"id\": \"el14858140331570931792\"}, {\"edgecolor\": \"none\", \"facecolor\": \"#4C72B0\", \"edgewidth\": 0.3, \"pathcodes\": [\"M\", \"L\", \"L\", \"L\", \"Z\"], \"yindex\": 1, \"coordinates\": \"data\", \"dasharray\": \"none\", \"zorder\": 1, \"alpha\": 1, \"xindex\": 3, \"data\": \"data03\", \"id\": \"el14858140331570933072\"}, {\"edgecolor\": \"none\", \"facecolor\": \"#4C72B0\", \"edgewidth\": 0.3, \"pathcodes\": [\"M\", \"L\", \"L\", \"L\", \"Z\"], \"yindex\": 1, \"coordinates\": \"data\", \"dasharray\": \"none\", \"zorder\": 1, \"alpha\": 1, \"xindex\": 4, \"data\": \"data03\", \"id\": \"el14858140331571018576\"}, {\"edgecolor\": \"none\", \"facecolor\": \"#4C72B0\", \"edgewidth\": 0.3, \"pathcodes\": [\"M\", \"L\", \"L\", \"L\", \"Z\"], \"yindex\": 1, \"coordinates\": \"data\", \"dasharray\": \"none\", \"zorder\": 1, \"alpha\": 1, \"xindex\": 2, \"data\": \"data16\", \"id\": \"el14858140331571015824\"}, {\"edgecolor\": \"none\", \"facecolor\": \"#4C72B0\", \"edgewidth\": 0.3, \"pathcodes\": [\"M\", \"L\", \"L\", \"L\", \"Z\"], \"yindex\": 1, \"coordinates\": \"data\", \"dasharray\": \"none\", \"zorder\": 1, \"alpha\": 1, \"xindex\": 5, \"data\": \"data03\", \"id\": \"el14858140331571018192\"}, {\"edgecolor\": \"none\", \"facecolor\": \"#4C72B0\", \"edgewidth\": 0.3, \"pathcodes\": [\"M\", \"L\", \"L\", \"L\", \"Z\"], \"yindex\": 1, \"coordinates\": \"data\", \"dasharray\": \"none\", \"zorder\": 1, \"alpha\": 1, \"xindex\": 2, \"data\": \"data05\", \"id\": \"el14858140331571018704\"}, {\"edgecolor\": \"none\", \"facecolor\": \"#4C72B0\", \"edgewidth\": 0.3, \"pathcodes\": [\"M\", \"L\", \"L\", \"L\", \"Z\"], \"yindex\": 1, \"coordinates\": \"data\", \"dasharray\": \"none\", \"zorder\": 1, \"alpha\": 1, \"xindex\": 2, \"data\": \"data17\", \"id\": \"el14858140331570540176\"}], \"sharey\": [], \"sharex\": [], \"axesbgalpha\": null, \"axes\": [{\"scale\": \"linear\", \"tickformat\": null, \"grid\": {\"color\": \"#FFFFFF\", \"alpha\": 1.0, \"dasharray\": \"none\", \"gridOn\": true}, \"visible\": true, \"fontsize\": 10.0, \"position\": \"bottom\", \"nticks\": 8, \"tickvalues\": null}, {\"scale\": \"linear\", \"tickformat\": null, \"grid\": {\"color\": \"#FFFFFF\", \"alpha\": 1.0, \"dasharray\": \"none\", \"gridOn\": true}, \"visible\": true, \"fontsize\": 10.0, \"position\": \"left\", \"nticks\": 7, \"tickvalues\": null}], \"lines\": [], \"markers\": [], \"id\": \"el14858140331568109328\", \"ydomain\": [0.0, 264.6], \"collections\": [], \"xscale\": \"linear\", \"bbox\": [0.125, 0.125, 0.775, 0.755]}], \"height\": 576.0, \"width\": 1440.0, \"plugins\": [{\"type\": \"reset\"}, {\"enabled\": false, \"button\": true, \"type\": \"zoom\"}, {\"enabled\": false, \"button\": true, \"type\": \"boxzoom\"}], \"data\": {\"data12\": [[25.133333333333333, 0.0], [27.0, 0.0], [27.0, 29.0], [25.133333333333333, 29.0]], \"data16\": [[34.46666666666667, 0.0, 47.53333333333333], [36.333333333333336, 0.0, 49.4], [36.333333333333336, 4.0, 49.4], [34.46666666666667, 4.0, 47.53333333333333]], \"data11\": [[23.266666666666666, 0.0], [25.133333333333333, 0.0], [25.133333333333333, 78.0], [23.266666666666666, 78.0]], \"data17\": [[36.33333333333333, 0.0, 53.133333333333326], [38.199999999999996, 0.0, 54.99999999999999], [38.199999999999996, 5.0, 54.99999999999999], [36.33333333333333, 5.0, 53.133333333333326]], \"data14\": [[28.866666666666667, 0.0], [30.733333333333334, 0.0], [30.733333333333334, 33.0], [28.866666666666667, 33.0]], \"data10\": [[21.4, 0.0], [23.266666666666666, 0.0], [23.266666666666666, 89.0], [21.4, 89.0]], \"data15\": [[30.733333333333334, 0.0, 32.599999999999994], [32.6, 0.0, 34.46666666666666], [32.6, 16.0, 34.46666666666666], [30.733333333333334, 16.0, 32.599999999999994]], \"data18\": [[41.93333333333334, 0.0], [43.8, 0.0], [43.8, 3.0], [41.93333333333334, 3.0]], \"data08\": [[17.666666666666668, 0.0], [19.533333333333335, 0.0], [19.533333333333335, 71.0], [17.666666666666668, 71.0]], \"data09\": [[19.53333333333334, 0.0], [21.400000000000002, 0.0], [21.400000000000002, 63.0], [19.53333333333334, 63.0]], \"data06\": [[13.933333333333334, 0.0], [15.8, 0.0], [15.8, 25.0], [13.933333333333334, 25.0]], \"data07\": [[15.8, 0.0], [17.666666666666668, 0.0], [17.666666666666668, 58.0], [15.8, 58.0]], \"data04\": [[10.2, 0.0], [12.066666666666666, 0.0], [12.066666666666666, 14.0], [10.2, 14.0]], \"data05\": [[12.066666666666666, 0.0, 51.266666666666666], [13.933333333333334, 0.0, 53.13333333333333], [13.933333333333334, 2.0, 53.13333333333333], [12.066666666666666, 2.0, 51.266666666666666]], \"data02\": [[0.8666666666666667, 0.0, 2.7333333333333334, 4.6, 6.466666666666667, 40.06666666666666], [2.7333333333333334, 0.0, 4.6, 6.466666666666667, 8.333333333333334, 41.93333333333333], [2.7333333333333334, 0.0, 4.6, 6.466666666666667, 8.333333333333334, 41.93333333333333], [0.8666666666666667, 0.0, 2.7333333333333334, 4.6, 6.466666666666667, 40.06666666666666]], \"data03\": [[8.333333333333332, 0.0, 38.2, 43.8, 45.66666666666666, 49.39999999999999], [10.199999999999998, 0.0, 40.06666666666667, 45.666666666666664, 47.533333333333324, 51.26666666666666], [10.199999999999998, 1.0, 40.06666666666667, 45.666666666666664, 47.533333333333324, 51.26666666666666], [8.333333333333332, 1.0, 38.2, 43.8, 45.66666666666666, 49.39999999999999]], \"data13\": [[27.0, 0.0], [28.866666666666667, 0.0], [28.866666666666667, 50.0], [27.0, 50.0]], \"data01\": [[-1.0, 0.0], [0.8666666666666667, 0.0], [0.8666666666666667, 252.0], [-1.0, 252.0]]}, \"id\": \"el14858140331566072400\"});\n",
       "      });\n",
       "    });\n",
       "}else{\n",
       "    // require.js not available: dynamically load d3 & mpld3\n",
       "    mpld3_load_lib(\"https://mpld3.github.io/js/d3.v3.min.js\", function(){\n",
       "         mpld3_load_lib(\"https://mpld3.github.io/js/mpld3.v0.3.js\", function(){\n",
       "                 \n",
       "                 mpld3.draw_figure(\"fig_el148581403315660724008314612494\", {\"axes\": [{\"xlim\": [-3.8, 57.79999999999999], \"yscale\": \"linear\", \"axesbg\": \"#EAEAF2\", \"texts\": [{\"v_baseline\": \"auto\", \"h_anchor\": \"middle\", \"color\": \"#262626\", \"text\": \"_traffic\", \"coordinates\": \"axes\", \"zorder\": 3, \"alpha\": 1, \"fontsize\": 12.0, \"position\": [0.5, 1.0137969094922736], \"rotation\": -0.0, \"id\": \"el14858140331570365264\"}], \"zoomable\": true, \"images\": [], \"xdomain\": [-3.8, 57.79999999999999], \"ylim\": [0.0, 264.6], \"paths\": [{\"edgecolor\": \"none\", \"facecolor\": \"#4C72B0\", \"edgewidth\": 0.3, \"pathcodes\": [\"M\", \"L\", \"L\", \"L\", \"Z\"], \"yindex\": 1, \"coordinates\": \"data\", \"dasharray\": \"none\", \"zorder\": 1, \"alpha\": 1, \"xindex\": 0, \"data\": \"data01\", \"id\": \"el14858140331571290000\"}, {\"edgecolor\": \"none\", \"facecolor\": \"#4C72B0\", \"edgewidth\": 0.3, \"pathcodes\": [\"M\", \"L\", \"L\", \"L\", \"Z\"], \"yindex\": 1, \"coordinates\": \"data\", \"dasharray\": \"none\", \"zorder\": 1, \"alpha\": 1, \"xindex\": 0, \"data\": \"data02\", \"id\": \"el14858140331571287504\"}, {\"edgecolor\": \"none\", \"facecolor\": \"#4C72B0\", \"edgewidth\": 0.3, \"pathcodes\": [\"M\", \"L\", \"L\", \"L\", \"Z\"], \"yindex\": 1, \"coordinates\": \"data\", \"dasharray\": \"none\", \"zorder\": 1, \"alpha\": 1, \"xindex\": 2, \"data\": \"data02\", \"id\": \"el14858140331571286544\"}, {\"edgecolor\": \"none\", \"facecolor\": \"#4C72B0\", \"edgewidth\": 0.3, \"pathcodes\": [\"M\", \"L\", \"L\", \"L\", \"Z\"], \"yindex\": 1, \"coordinates\": \"data\", \"dasharray\": \"none\", \"zorder\": 1, \"alpha\": 1, \"xindex\": 3, \"data\": \"data02\", \"id\": \"el14858140331571286608\"}, {\"edgecolor\": \"none\", \"facecolor\": \"#4C72B0\", \"edgewidth\": 0.3, \"pathcodes\": [\"M\", \"L\", \"L\", \"L\", \"Z\"], \"yindex\": 1, \"coordinates\": \"data\", \"dasharray\": \"none\", \"zorder\": 1, \"alpha\": 1, \"xindex\": 4, \"data\": \"data02\", \"id\": \"el14858140331571289552\"}, {\"edgecolor\": \"none\", \"facecolor\": \"#4C72B0\", \"edgewidth\": 0.3, \"pathcodes\": [\"M\", \"L\", \"L\", \"L\", \"Z\"], \"yindex\": 1, \"coordinates\": \"data\", \"dasharray\": \"none\", \"zorder\": 1, \"alpha\": 1, \"xindex\": 0, \"data\": \"data03\", \"id\": \"el14858140331570814416\"}, {\"edgecolor\": \"none\", \"facecolor\": \"#4C72B0\", \"edgewidth\": 0.3, \"pathcodes\": [\"M\", \"L\", \"L\", \"L\", \"Z\"], \"yindex\": 1, \"coordinates\": \"data\", \"dasharray\": \"none\", \"zorder\": 1, \"alpha\": 1, \"xindex\": 0, \"data\": \"data04\", \"id\": \"el14858140331570812240\"}, {\"edgecolor\": \"none\", \"facecolor\": \"#4C72B0\", \"edgewidth\": 0.3, \"pathcodes\": [\"M\", \"L\", \"L\", \"L\", \"Z\"], \"yindex\": 1, \"coordinates\": \"data\", \"dasharray\": \"none\", \"zorder\": 1, \"alpha\": 1, \"xindex\": 0, \"data\": \"data05\", \"id\": \"el14858140331570811344\"}, {\"edgecolor\": \"none\", \"facecolor\": \"#4C72B0\", \"edgewidth\": 0.3, \"pathcodes\": [\"M\", \"L\", \"L\", \"L\", \"Z\"], \"yindex\": 1, \"coordinates\": \"data\", \"dasharray\": \"none\", \"zorder\": 1, \"alpha\": 1, \"xindex\": 0, \"data\": \"data06\", \"id\": \"el14858140331570813776\"}, {\"edgecolor\": \"none\", \"facecolor\": \"#4C72B0\", \"edgewidth\": 0.3, \"pathcodes\": [\"M\", \"L\", \"L\", \"L\", \"Z\"], \"yindex\": 1, \"coordinates\": \"data\", \"dasharray\": \"none\", \"zorder\": 1, \"alpha\": 1, \"xindex\": 0, \"data\": \"data07\", \"id\": \"el14858140331570896528\"}, {\"edgecolor\": \"none\", \"facecolor\": \"#4C72B0\", \"edgewidth\": 0.3, \"pathcodes\": [\"M\", \"L\", \"L\", \"L\", \"Z\"], \"yindex\": 1, \"coordinates\": \"data\", \"dasharray\": \"none\", \"zorder\": 1, \"alpha\": 1, \"xindex\": 0, \"data\": \"data08\", \"id\": \"el14858140331571576208\"}, {\"edgecolor\": \"none\", \"facecolor\": \"#4C72B0\", \"edgewidth\": 0.3, \"pathcodes\": [\"M\", \"L\", \"L\", \"L\", \"Z\"], \"yindex\": 1, \"coordinates\": \"data\", \"dasharray\": \"none\", \"zorder\": 1, \"alpha\": 1, \"xindex\": 0, \"data\": \"data09\", \"id\": \"el14858140331571576400\"}, {\"edgecolor\": \"none\", \"facecolor\": \"#4C72B0\", \"edgewidth\": 0.3, \"pathcodes\": [\"M\", \"L\", \"L\", \"L\", \"Z\"], \"yindex\": 1, \"coordinates\": \"data\", \"dasharray\": \"none\", \"zorder\": 1, \"alpha\": 1, \"xindex\": 0, \"data\": \"data10\", \"id\": \"el14858140331566443536\"}, {\"edgecolor\": \"none\", \"facecolor\": \"#4C72B0\", \"edgewidth\": 0.3, \"pathcodes\": [\"M\", \"L\", \"L\", \"L\", \"Z\"], \"yindex\": 1, \"coordinates\": \"data\", \"dasharray\": \"none\", \"zorder\": 1, \"alpha\": 1, \"xindex\": 0, \"data\": \"data11\", \"id\": \"el14858140331570368016\"}, {\"edgecolor\": \"none\", \"facecolor\": \"#4C72B0\", \"edgewidth\": 0.3, \"pathcodes\": [\"M\", \"L\", \"L\", \"L\", \"Z\"], \"yindex\": 1, \"coordinates\": \"data\", \"dasharray\": \"none\", \"zorder\": 1, \"alpha\": 1, \"xindex\": 0, \"data\": \"data12\", \"id\": \"el14858140331566074896\"}, {\"edgecolor\": \"none\", \"facecolor\": \"#4C72B0\", \"edgewidth\": 0.3, \"pathcodes\": [\"M\", \"L\", \"L\", \"L\", \"Z\"], \"yindex\": 1, \"coordinates\": \"data\", \"dasharray\": \"none\", \"zorder\": 1, \"alpha\": 1, \"xindex\": 0, \"data\": \"data13\", \"id\": \"el14858140331570894480\"}, {\"edgecolor\": \"none\", \"facecolor\": \"#4C72B0\", \"edgewidth\": 0.3, \"pathcodes\": [\"M\", \"L\", \"L\", \"L\", \"Z\"], \"yindex\": 1, \"coordinates\": \"data\", \"dasharray\": \"none\", \"zorder\": 1, \"alpha\": 1, \"xindex\": 0, \"data\": \"data14\", \"id\": \"el14858140331570896848\"}, {\"edgecolor\": \"none\", \"facecolor\": \"#4C72B0\", \"edgewidth\": 0.3, \"pathcodes\": [\"M\", \"L\", \"L\", \"L\", \"Z\"], \"yindex\": 1, \"coordinates\": \"data\", \"dasharray\": \"none\", \"zorder\": 1, \"alpha\": 1, \"xindex\": 0, \"data\": \"data15\", \"id\": \"el14858140331570852560\"}, {\"edgecolor\": \"none\", \"facecolor\": \"#4C72B0\", \"edgewidth\": 0.3, \"pathcodes\": [\"M\", \"L\", \"L\", \"L\", \"Z\"], \"yindex\": 1, \"coordinates\": \"data\", \"dasharray\": \"none\", \"zorder\": 1, \"alpha\": 1, \"xindex\": 2, \"data\": \"data15\", \"id\": \"el14858140331570852368\"}, {\"edgecolor\": \"none\", \"facecolor\": \"#4C72B0\", \"edgewidth\": 0.3, \"pathcodes\": [\"M\", \"L\", \"L\", \"L\", \"Z\"], \"yindex\": 1, \"coordinates\": \"data\", \"dasharray\": \"none\", \"zorder\": 1, \"alpha\": 1, \"xindex\": 0, \"data\": \"data16\", \"id\": \"el14858140331570854288\"}, {\"edgecolor\": \"none\", \"facecolor\": \"#4C72B0\", \"edgewidth\": 0.3, \"pathcodes\": [\"M\", \"L\", \"L\", \"L\", \"Z\"], \"yindex\": 1, \"coordinates\": \"data\", \"dasharray\": \"none\", \"zorder\": 1, \"alpha\": 1, \"xindex\": 0, \"data\": \"data17\", \"id\": \"el14858140331570855184\"}, {\"edgecolor\": \"none\", \"facecolor\": \"#4C72B0\", \"edgewidth\": 0.3, \"pathcodes\": [\"M\", \"L\", \"L\", \"L\", \"Z\"], \"yindex\": 1, \"coordinates\": \"data\", \"dasharray\": \"none\", \"zorder\": 1, \"alpha\": 1, \"xindex\": 2, \"data\": \"data03\", \"id\": \"el14858140331570930448\"}, {\"edgecolor\": \"none\", \"facecolor\": \"#4C72B0\", \"edgewidth\": 0.3, \"pathcodes\": [\"M\", \"L\", \"L\", \"L\", \"Z\"], \"yindex\": 1, \"coordinates\": \"data\", \"dasharray\": \"none\", \"zorder\": 1, \"alpha\": 1, \"xindex\": 5, \"data\": \"data02\", \"id\": \"el14858140331570930192\"}, {\"edgecolor\": \"none\", \"facecolor\": \"#4C72B0\", \"edgewidth\": 0.3, \"pathcodes\": [\"M\", \"L\", \"L\", \"L\", \"Z\"], \"yindex\": 1, \"coordinates\": \"data\", \"dasharray\": \"none\", \"zorder\": 1, \"alpha\": 1, \"xindex\": 0, \"data\": \"data18\", \"id\": \"el14858140331570931792\"}, {\"edgecolor\": \"none\", \"facecolor\": \"#4C72B0\", \"edgewidth\": 0.3, \"pathcodes\": [\"M\", \"L\", \"L\", \"L\", \"Z\"], \"yindex\": 1, \"coordinates\": \"data\", \"dasharray\": \"none\", \"zorder\": 1, \"alpha\": 1, \"xindex\": 3, \"data\": \"data03\", \"id\": \"el14858140331570933072\"}, {\"edgecolor\": \"none\", \"facecolor\": \"#4C72B0\", \"edgewidth\": 0.3, \"pathcodes\": [\"M\", \"L\", \"L\", \"L\", \"Z\"], \"yindex\": 1, \"coordinates\": \"data\", \"dasharray\": \"none\", \"zorder\": 1, \"alpha\": 1, \"xindex\": 4, \"data\": \"data03\", \"id\": \"el14858140331571018576\"}, {\"edgecolor\": \"none\", \"facecolor\": \"#4C72B0\", \"edgewidth\": 0.3, \"pathcodes\": [\"M\", \"L\", \"L\", \"L\", \"Z\"], \"yindex\": 1, \"coordinates\": \"data\", \"dasharray\": \"none\", \"zorder\": 1, \"alpha\": 1, \"xindex\": 2, \"data\": \"data16\", \"id\": \"el14858140331571015824\"}, {\"edgecolor\": \"none\", \"facecolor\": \"#4C72B0\", \"edgewidth\": 0.3, \"pathcodes\": [\"M\", \"L\", \"L\", \"L\", \"Z\"], \"yindex\": 1, \"coordinates\": \"data\", \"dasharray\": \"none\", \"zorder\": 1, \"alpha\": 1, \"xindex\": 5, \"data\": \"data03\", \"id\": \"el14858140331571018192\"}, {\"edgecolor\": \"none\", \"facecolor\": \"#4C72B0\", \"edgewidth\": 0.3, \"pathcodes\": [\"M\", \"L\", \"L\", \"L\", \"Z\"], \"yindex\": 1, \"coordinates\": \"data\", \"dasharray\": \"none\", \"zorder\": 1, \"alpha\": 1, \"xindex\": 2, \"data\": \"data05\", \"id\": \"el14858140331571018704\"}, {\"edgecolor\": \"none\", \"facecolor\": \"#4C72B0\", \"edgewidth\": 0.3, \"pathcodes\": [\"M\", \"L\", \"L\", \"L\", \"Z\"], \"yindex\": 1, \"coordinates\": \"data\", \"dasharray\": \"none\", \"zorder\": 1, \"alpha\": 1, \"xindex\": 2, \"data\": \"data17\", \"id\": \"el14858140331570540176\"}], \"sharey\": [], \"sharex\": [], \"axesbgalpha\": null, \"axes\": [{\"scale\": \"linear\", \"tickformat\": null, \"grid\": {\"color\": \"#FFFFFF\", \"alpha\": 1.0, \"dasharray\": \"none\", \"gridOn\": true}, \"visible\": true, \"fontsize\": 10.0, \"position\": \"bottom\", \"nticks\": 8, \"tickvalues\": null}, {\"scale\": \"linear\", \"tickformat\": null, \"grid\": {\"color\": \"#FFFFFF\", \"alpha\": 1.0, \"dasharray\": \"none\", \"gridOn\": true}, \"visible\": true, \"fontsize\": 10.0, \"position\": \"left\", \"nticks\": 7, \"tickvalues\": null}], \"lines\": [], \"markers\": [], \"id\": \"el14858140331568109328\", \"ydomain\": [0.0, 264.6], \"collections\": [], \"xscale\": \"linear\", \"bbox\": [0.125, 0.125, 0.775, 0.755]}], \"height\": 576.0, \"width\": 1440.0, \"plugins\": [{\"type\": \"reset\"}, {\"enabled\": false, \"button\": true, \"type\": \"zoom\"}, {\"enabled\": false, \"button\": true, \"type\": \"boxzoom\"}], \"data\": {\"data12\": [[25.133333333333333, 0.0], [27.0, 0.0], [27.0, 29.0], [25.133333333333333, 29.0]], \"data16\": [[34.46666666666667, 0.0, 47.53333333333333], [36.333333333333336, 0.0, 49.4], [36.333333333333336, 4.0, 49.4], [34.46666666666667, 4.0, 47.53333333333333]], \"data11\": [[23.266666666666666, 0.0], [25.133333333333333, 0.0], [25.133333333333333, 78.0], [23.266666666666666, 78.0]], \"data17\": [[36.33333333333333, 0.0, 53.133333333333326], [38.199999999999996, 0.0, 54.99999999999999], [38.199999999999996, 5.0, 54.99999999999999], [36.33333333333333, 5.0, 53.133333333333326]], \"data14\": [[28.866666666666667, 0.0], [30.733333333333334, 0.0], [30.733333333333334, 33.0], [28.866666666666667, 33.0]], \"data10\": [[21.4, 0.0], [23.266666666666666, 0.0], [23.266666666666666, 89.0], [21.4, 89.0]], \"data15\": [[30.733333333333334, 0.0, 32.599999999999994], [32.6, 0.0, 34.46666666666666], [32.6, 16.0, 34.46666666666666], [30.733333333333334, 16.0, 32.599999999999994]], \"data18\": [[41.93333333333334, 0.0], [43.8, 0.0], [43.8, 3.0], [41.93333333333334, 3.0]], \"data08\": [[17.666666666666668, 0.0], [19.533333333333335, 0.0], [19.533333333333335, 71.0], [17.666666666666668, 71.0]], \"data09\": [[19.53333333333334, 0.0], [21.400000000000002, 0.0], [21.400000000000002, 63.0], [19.53333333333334, 63.0]], \"data06\": [[13.933333333333334, 0.0], [15.8, 0.0], [15.8, 25.0], [13.933333333333334, 25.0]], \"data07\": [[15.8, 0.0], [17.666666666666668, 0.0], [17.666666666666668, 58.0], [15.8, 58.0]], \"data04\": [[10.2, 0.0], [12.066666666666666, 0.0], [12.066666666666666, 14.0], [10.2, 14.0]], \"data05\": [[12.066666666666666, 0.0, 51.266666666666666], [13.933333333333334, 0.0, 53.13333333333333], [13.933333333333334, 2.0, 53.13333333333333], [12.066666666666666, 2.0, 51.266666666666666]], \"data02\": [[0.8666666666666667, 0.0, 2.7333333333333334, 4.6, 6.466666666666667, 40.06666666666666], [2.7333333333333334, 0.0, 4.6, 6.466666666666667, 8.333333333333334, 41.93333333333333], [2.7333333333333334, 0.0, 4.6, 6.466666666666667, 8.333333333333334, 41.93333333333333], [0.8666666666666667, 0.0, 2.7333333333333334, 4.6, 6.466666666666667, 40.06666666666666]], \"data03\": [[8.333333333333332, 0.0, 38.2, 43.8, 45.66666666666666, 49.39999999999999], [10.199999999999998, 0.0, 40.06666666666667, 45.666666666666664, 47.533333333333324, 51.26666666666666], [10.199999999999998, 1.0, 40.06666666666667, 45.666666666666664, 47.533333333333324, 51.26666666666666], [8.333333333333332, 1.0, 38.2, 43.8, 45.66666666666666, 49.39999999999999]], \"data13\": [[27.0, 0.0], [28.866666666666667, 0.0], [28.866666666666667, 50.0], [27.0, 50.0]], \"data01\": [[-1.0, 0.0], [0.8666666666666667, 0.0], [0.8666666666666667, 252.0], [-1.0, 252.0]]}, \"id\": \"el14858140331566072400\"});\n",
       "            })\n",
       "         });\n",
       "}\n",
       "</script>"
      ],
      "text/plain": [
       "<matplotlib.figure.Figure at 0x7fa17d258250>"
      ]
     },
     "metadata": {},
     "output_type": "display_data"
    }
   ],
   "source": [
    "df.hist(column='_traffic', bins=30)"
   ]
  },
  {
   "cell_type": "markdown",
   "metadata": {},
   "source": [
    "# Identifying Abnormal Behavior Using Autoencoder"
   ]
  },
  {
   "cell_type": "code",
   "execution_count": 29,
   "metadata": {
    "collapsed": true
   },
   "outputs": [],
   "source": [
    "%bq query -n speed_at_times\n",
    "SELECT\n",
    "  current_speed, _region_id, _last_updt\n",
    "FROM\n",
    "  `nickapi-184104.demos.regions`"
   ]
  },
  {
   "cell_type": "code",
   "execution_count": 30,
   "metadata": {
    "collapsed": true
   },
   "outputs": [],
   "source": [
    "df = speed_at_times.execute().result().to_dataframe()"
   ]
  },
  {
   "cell_type": "code",
   "execution_count": 31,
   "metadata": {},
   "outputs": [
    {
     "data": {
      "text/html": [
       "<div>\n",
       "<style scoped>\n",
       "    .dataframe tbody tr th:only-of-type {\n",
       "        vertical-align: middle;\n",
       "    }\n",
       "\n",
       "    .dataframe tbody tr th {\n",
       "        vertical-align: top;\n",
       "    }\n",
       "\n",
       "    .dataframe thead th {\n",
       "        text-align: right;\n",
       "    }\n",
       "</style>\n",
       "<table border=\"1\" class=\"dataframe\">\n",
       "  <thead>\n",
       "    <tr style=\"text-align: right;\">\n",
       "      <th></th>\n",
       "      <th>current_speed</th>\n",
       "      <th>_region_id</th>\n",
       "    </tr>\n",
       "  </thead>\n",
       "  <tbody>\n",
       "    <tr>\n",
       "      <th>count</th>\n",
       "      <td>8845.000000</td>\n",
       "      <td>8845.000000</td>\n",
       "    </tr>\n",
       "    <tr>\n",
       "      <th>mean</th>\n",
       "      <td>21.531628</td>\n",
       "      <td>15.000000</td>\n",
       "    </tr>\n",
       "    <tr>\n",
       "      <th>std</th>\n",
       "      <td>7.768073</td>\n",
       "      <td>8.367073</td>\n",
       "    </tr>\n",
       "    <tr>\n",
       "      <th>min</th>\n",
       "      <td>0.000000</td>\n",
       "      <td>1.000000</td>\n",
       "    </tr>\n",
       "    <tr>\n",
       "      <th>25%</th>\n",
       "      <td>19.090000</td>\n",
       "      <td>8.000000</td>\n",
       "    </tr>\n",
       "    <tr>\n",
       "      <th>50%</th>\n",
       "      <td>22.500000</td>\n",
       "      <td>15.000000</td>\n",
       "    </tr>\n",
       "    <tr>\n",
       "      <th>75%</th>\n",
       "      <td>25.910000</td>\n",
       "      <td>22.000000</td>\n",
       "    </tr>\n",
       "    <tr>\n",
       "      <th>max</th>\n",
       "      <td>55.230000</td>\n",
       "      <td>29.000000</td>\n",
       "    </tr>\n",
       "  </tbody>\n",
       "</table>\n",
       "</div>"
      ],
      "text/plain": [
       "       current_speed   _region_id\n",
       "count    8845.000000  8845.000000\n",
       "mean       21.531628    15.000000\n",
       "std         7.768073     8.367073\n",
       "min         0.000000     1.000000\n",
       "25%        19.090000     8.000000\n",
       "50%        22.500000    15.000000\n",
       "75%        25.910000    22.000000\n",
       "max        55.230000    29.000000"
      ]
     },
     "execution_count": 31,
     "metadata": {},
     "output_type": "execute_result"
    }
   ],
   "source": [
    "df.describe()"
   ]
  },
  {
   "cell_type": "code",
   "execution_count": 32,
   "metadata": {},
   "outputs": [
    {
     "data": {
      "text/html": [
       "<div>\n",
       "<style scoped>\n",
       "    .dataframe tbody tr th:only-of-type {\n",
       "        vertical-align: middle;\n",
       "    }\n",
       "\n",
       "    .dataframe tbody tr th {\n",
       "        vertical-align: top;\n",
       "    }\n",
       "\n",
       "    .dataframe thead th {\n",
       "        text-align: right;\n",
       "    }\n",
       "</style>\n",
       "<table border=\"1\" class=\"dataframe\">\n",
       "  <thead>\n",
       "    <tr style=\"text-align: right;\">\n",
       "      <th></th>\n",
       "      <th>current_speed</th>\n",
       "      <th>_region_id</th>\n",
       "      <th>_last_updt</th>\n",
       "    </tr>\n",
       "  </thead>\n",
       "  <tbody>\n",
       "    <tr>\n",
       "      <th>0</th>\n",
       "      <td>21.27</td>\n",
       "      <td>1</td>\n",
       "      <td>2018-03-27 10:40:32</td>\n",
       "    </tr>\n",
       "    <tr>\n",
       "      <th>1</th>\n",
       "      <td>21.41</td>\n",
       "      <td>1</td>\n",
       "      <td>2018-03-27 10:50:46</td>\n",
       "    </tr>\n",
       "    <tr>\n",
       "      <th>2</th>\n",
       "      <td>20.73</td>\n",
       "      <td>1</td>\n",
       "      <td>2018-03-27 11:50:46</td>\n",
       "    </tr>\n",
       "    <tr>\n",
       "      <th>3</th>\n",
       "      <td>20.39</td>\n",
       "      <td>1</td>\n",
       "      <td>2018-03-27 15:40:41</td>\n",
       "    </tr>\n",
       "    <tr>\n",
       "      <th>4</th>\n",
       "      <td>19.64</td>\n",
       "      <td>1</td>\n",
       "      <td>2018-03-27 15:50:53</td>\n",
       "    </tr>\n",
       "  </tbody>\n",
       "</table>\n",
       "</div>"
      ],
      "text/plain": [
       "   current_speed  _region_id          _last_updt\n",
       "0          21.27           1 2018-03-27 10:40:32\n",
       "1          21.41           1 2018-03-27 10:50:46\n",
       "2          20.73           1 2018-03-27 11:50:46\n",
       "3          20.39           1 2018-03-27 15:40:41\n",
       "4          19.64           1 2018-03-27 15:50:53"
      ]
     },
     "execution_count": 32,
     "metadata": {},
     "output_type": "execute_result"
    }
   ],
   "source": [
    "df.head()"
   ]
  },
  {
   "cell_type": "code",
   "execution_count": 33,
   "metadata": {
    "collapsed": true
   },
   "outputs": [],
   "source": [
    "df = df.pivot(index='_last_updt', columns='_region_id', values='current_speed')\n",
    "df = df.dropna(how='any')"
   ]
  },
  {
   "cell_type": "code",
   "execution_count": 35,
   "metadata": {},
   "outputs": [
    {
     "data": {
      "text/html": [
       "<div>\n",
       "<style scoped>\n",
       "    .dataframe tbody tr th:only-of-type {\n",
       "        vertical-align: middle;\n",
       "    }\n",
       "\n",
       "    .dataframe tbody tr th {\n",
       "        vertical-align: top;\n",
       "    }\n",
       "\n",
       "    .dataframe thead th {\n",
       "        text-align: right;\n",
       "    }\n",
       "</style>\n",
       "<table border=\"1\" class=\"dataframe\">\n",
       "  <thead>\n",
       "    <tr style=\"text-align: right;\">\n",
       "      <th>_region_id</th>\n",
       "      <th>1</th>\n",
       "      <th>2</th>\n",
       "      <th>3</th>\n",
       "      <th>4</th>\n",
       "      <th>5</th>\n",
       "      <th>6</th>\n",
       "      <th>7</th>\n",
       "      <th>8</th>\n",
       "      <th>9</th>\n",
       "      <th>10</th>\n",
       "      <th>...</th>\n",
       "      <th>20</th>\n",
       "      <th>21</th>\n",
       "      <th>22</th>\n",
       "      <th>23</th>\n",
       "      <th>24</th>\n",
       "      <th>25</th>\n",
       "      <th>26</th>\n",
       "      <th>27</th>\n",
       "      <th>28</th>\n",
       "      <th>29</th>\n",
       "    </tr>\n",
       "  </thead>\n",
       "  <tbody>\n",
       "    <tr>\n",
       "      <th>count</th>\n",
       "      <td>268.000000</td>\n",
       "      <td>268.000000</td>\n",
       "      <td>268.000000</td>\n",
       "      <td>268.000000</td>\n",
       "      <td>268.000000</td>\n",
       "      <td>268.000000</td>\n",
       "      <td>268.000000</td>\n",
       "      <td>268.000000</td>\n",
       "      <td>268.000000</td>\n",
       "      <td>268.000000</td>\n",
       "      <td>...</td>\n",
       "      <td>268.000000</td>\n",
       "      <td>268.000000</td>\n",
       "      <td>268.000000</td>\n",
       "      <td>268.000000</td>\n",
       "      <td>268.000000</td>\n",
       "      <td>268.000000</td>\n",
       "      <td>268.00000</td>\n",
       "      <td>268.000000</td>\n",
       "      <td>268.000000</td>\n",
       "      <td>268.000000</td>\n",
       "    </tr>\n",
       "    <tr>\n",
       "      <th>mean</th>\n",
       "      <td>18.382127</td>\n",
       "      <td>24.983769</td>\n",
       "      <td>20.690075</td>\n",
       "      <td>18.123321</td>\n",
       "      <td>20.698022</td>\n",
       "      <td>19.641343</td>\n",
       "      <td>18.852873</td>\n",
       "      <td>19.197164</td>\n",
       "      <td>20.604739</td>\n",
       "      <td>20.564216</td>\n",
       "      <td>...</td>\n",
       "      <td>22.697687</td>\n",
       "      <td>21.243545</td>\n",
       "      <td>25.808507</td>\n",
       "      <td>20.609328</td>\n",
       "      <td>22.019627</td>\n",
       "      <td>23.866007</td>\n",
       "      <td>26.45694</td>\n",
       "      <td>26.952910</td>\n",
       "      <td>22.189216</td>\n",
       "      <td>18.663097</td>\n",
       "    </tr>\n",
       "    <tr>\n",
       "      <th>std</th>\n",
       "      <td>7.780303</td>\n",
       "      <td>6.727297</td>\n",
       "      <td>4.821461</td>\n",
       "      <td>6.987070</td>\n",
       "      <td>6.904596</td>\n",
       "      <td>6.081496</td>\n",
       "      <td>6.309223</td>\n",
       "      <td>5.752078</td>\n",
       "      <td>7.947848</td>\n",
       "      <td>4.397443</td>\n",
       "      <td>...</td>\n",
       "      <td>6.266400</td>\n",
       "      <td>7.351565</td>\n",
       "      <td>7.296044</td>\n",
       "      <td>3.533762</td>\n",
       "      <td>6.015981</td>\n",
       "      <td>10.766428</td>\n",
       "      <td>6.96925</td>\n",
       "      <td>7.613657</td>\n",
       "      <td>15.676487</td>\n",
       "      <td>9.023305</td>\n",
       "    </tr>\n",
       "    <tr>\n",
       "      <th>min</th>\n",
       "      <td>0.000000</td>\n",
       "      <td>0.000000</td>\n",
       "      <td>0.000000</td>\n",
       "      <td>0.000000</td>\n",
       "      <td>0.000000</td>\n",
       "      <td>0.000000</td>\n",
       "      <td>0.000000</td>\n",
       "      <td>0.000000</td>\n",
       "      <td>0.000000</td>\n",
       "      <td>0.000000</td>\n",
       "      <td>...</td>\n",
       "      <td>0.000000</td>\n",
       "      <td>0.000000</td>\n",
       "      <td>0.000000</td>\n",
       "      <td>0.000000</td>\n",
       "      <td>0.000000</td>\n",
       "      <td>0.000000</td>\n",
       "      <td>0.00000</td>\n",
       "      <td>0.000000</td>\n",
       "      <td>0.000000</td>\n",
       "      <td>0.000000</td>\n",
       "    </tr>\n",
       "    <tr>\n",
       "      <th>25%</th>\n",
       "      <td>19.090000</td>\n",
       "      <td>25.230000</td>\n",
       "      <td>19.090000</td>\n",
       "      <td>17.730000</td>\n",
       "      <td>19.770000</td>\n",
       "      <td>18.367500</td>\n",
       "      <td>17.730000</td>\n",
       "      <td>17.730000</td>\n",
       "      <td>21.140000</td>\n",
       "      <td>19.090000</td>\n",
       "      <td>...</td>\n",
       "      <td>21.820000</td>\n",
       "      <td>20.442500</td>\n",
       "      <td>25.910000</td>\n",
       "      <td>19.770000</td>\n",
       "      <td>20.450000</td>\n",
       "      <td>26.590000</td>\n",
       "      <td>24.55000</td>\n",
       "      <td>27.270000</td>\n",
       "      <td>0.000000</td>\n",
       "      <td>18.375000</td>\n",
       "    </tr>\n",
       "    <tr>\n",
       "      <th>50%</th>\n",
       "      <td>20.450000</td>\n",
       "      <td>26.590000</td>\n",
       "      <td>20.450000</td>\n",
       "      <td>19.090000</td>\n",
       "      <td>21.820000</td>\n",
       "      <td>20.450000</td>\n",
       "      <td>19.770000</td>\n",
       "      <td>19.090000</td>\n",
       "      <td>22.500000</td>\n",
       "      <td>19.770000</td>\n",
       "      <td>...</td>\n",
       "      <td>23.860000</td>\n",
       "      <td>22.500000</td>\n",
       "      <td>27.270000</td>\n",
       "      <td>20.450000</td>\n",
       "      <td>23.180000</td>\n",
       "      <td>27.950000</td>\n",
       "      <td>25.91000</td>\n",
       "      <td>28.640000</td>\n",
       "      <td>28.910000</td>\n",
       "      <td>20.450000</td>\n",
       "    </tr>\n",
       "    <tr>\n",
       "      <th>75%</th>\n",
       "      <td>21.820000</td>\n",
       "      <td>27.547500</td>\n",
       "      <td>23.232500</td>\n",
       "      <td>21.820000</td>\n",
       "      <td>24.017500</td>\n",
       "      <td>22.500000</td>\n",
       "      <td>21.820000</td>\n",
       "      <td>21.820000</td>\n",
       "      <td>23.860000</td>\n",
       "      <td>22.585000</td>\n",
       "      <td>...</td>\n",
       "      <td>25.230000</td>\n",
       "      <td>25.230000</td>\n",
       "      <td>28.640000</td>\n",
       "      <td>21.820000</td>\n",
       "      <td>24.697500</td>\n",
       "      <td>29.320000</td>\n",
       "      <td>28.39500</td>\n",
       "      <td>30.000000</td>\n",
       "      <td>33.480000</td>\n",
       "      <td>23.477500</td>\n",
       "    </tr>\n",
       "    <tr>\n",
       "      <th>max</th>\n",
       "      <td>34.090000</td>\n",
       "      <td>35.450000</td>\n",
       "      <td>30.680000</td>\n",
       "      <td>32.050000</td>\n",
       "      <td>33.720000</td>\n",
       "      <td>48.140000</td>\n",
       "      <td>32.110000</td>\n",
       "      <td>35.420000</td>\n",
       "      <td>36.950000</td>\n",
       "      <td>29.320000</td>\n",
       "      <td>...</td>\n",
       "      <td>38.180000</td>\n",
       "      <td>33.410000</td>\n",
       "      <td>37.500000</td>\n",
       "      <td>30.680000</td>\n",
       "      <td>35.450000</td>\n",
       "      <td>38.180000</td>\n",
       "      <td>55.23000</td>\n",
       "      <td>40.230000</td>\n",
       "      <td>48.310000</td>\n",
       "      <td>43.020000</td>\n",
       "    </tr>\n",
       "  </tbody>\n",
       "</table>\n",
       "<p>8 rows × 29 columns</p>\n",
       "</div>"
      ],
      "text/plain": [
       "_region_id          1           2           3           4           5   \\\n",
       "count       268.000000  268.000000  268.000000  268.000000  268.000000   \n",
       "mean         18.382127   24.983769   20.690075   18.123321   20.698022   \n",
       "std           7.780303    6.727297    4.821461    6.987070    6.904596   \n",
       "min           0.000000    0.000000    0.000000    0.000000    0.000000   \n",
       "25%          19.090000   25.230000   19.090000   17.730000   19.770000   \n",
       "50%          20.450000   26.590000   20.450000   19.090000   21.820000   \n",
       "75%          21.820000   27.547500   23.232500   21.820000   24.017500   \n",
       "max          34.090000   35.450000   30.680000   32.050000   33.720000   \n",
       "\n",
       "_region_id          6           7           8           9           10  \\\n",
       "count       268.000000  268.000000  268.000000  268.000000  268.000000   \n",
       "mean         19.641343   18.852873   19.197164   20.604739   20.564216   \n",
       "std           6.081496    6.309223    5.752078    7.947848    4.397443   \n",
       "min           0.000000    0.000000    0.000000    0.000000    0.000000   \n",
       "25%          18.367500   17.730000   17.730000   21.140000   19.090000   \n",
       "50%          20.450000   19.770000   19.090000   22.500000   19.770000   \n",
       "75%          22.500000   21.820000   21.820000   23.860000   22.585000   \n",
       "max          48.140000   32.110000   35.420000   36.950000   29.320000   \n",
       "\n",
       "_region_id     ...              20          21          22          23  \\\n",
       "count          ...      268.000000  268.000000  268.000000  268.000000   \n",
       "mean           ...       22.697687   21.243545   25.808507   20.609328   \n",
       "std            ...        6.266400    7.351565    7.296044    3.533762   \n",
       "min            ...        0.000000    0.000000    0.000000    0.000000   \n",
       "25%            ...       21.820000   20.442500   25.910000   19.770000   \n",
       "50%            ...       23.860000   22.500000   27.270000   20.450000   \n",
       "75%            ...       25.230000   25.230000   28.640000   21.820000   \n",
       "max            ...       38.180000   33.410000   37.500000   30.680000   \n",
       "\n",
       "_region_id          24          25         26          27          28  \\\n",
       "count       268.000000  268.000000  268.00000  268.000000  268.000000   \n",
       "mean         22.019627   23.866007   26.45694   26.952910   22.189216   \n",
       "std           6.015981   10.766428    6.96925    7.613657   15.676487   \n",
       "min           0.000000    0.000000    0.00000    0.000000    0.000000   \n",
       "25%          20.450000   26.590000   24.55000   27.270000    0.000000   \n",
       "50%          23.180000   27.950000   25.91000   28.640000   28.910000   \n",
       "75%          24.697500   29.320000   28.39500   30.000000   33.480000   \n",
       "max          35.450000   38.180000   55.23000   40.230000   48.310000   \n",
       "\n",
       "_region_id          29  \n",
       "count       268.000000  \n",
       "mean         18.663097  \n",
       "std           9.023305  \n",
       "min           0.000000  \n",
       "25%          18.375000  \n",
       "50%          20.450000  \n",
       "75%          23.477500  \n",
       "max          43.020000  \n",
       "\n",
       "[8 rows x 29 columns]"
      ]
     },
     "execution_count": 35,
     "metadata": {},
     "output_type": "execute_result"
    }
   ],
   "source": [
    "df.describe()"
   ]
  },
  {
   "cell_type": "markdown",
   "metadata": {},
   "source": [
    "### What is an Autoencoder\n",
    "\"Autoencoding\" is a data compression algorithm where the compression and decompression functions are 1) data-specific, 2) lossy, and 3) learned automatically from examples rather than engineered by a human. Additionally, in almost all contexts where the term \"autoencoder\" is used, the compression and decompression functions are implemented with neural networks.\n",
    "[<img src=\"https://blog.keras.io/img/ae/autoencoder_schema.jpg\">]()"
   ]
  },
  {
   "cell_type": "code",
   "execution_count": 125,
   "metadata": {
    "collapsed": true
   },
   "outputs": [],
   "source": [
    "from keras.layers import Input, Dense\n",
    "from keras.models import Model\n",
    "from keras import regularizers\n",
    "\n",
    "encoding_dim = 2\n",
    "\n",
    "input_img = Input(shape=(29,))\n",
    "encoded = Dense(16, activation='relu')(input_img)\n",
    "encoded = Dense(8, activation='relu')(encoded)\n",
    "encoded = Dense(2, activation='relu')(encoded)\n",
    "\n",
    "decoded = Dense(2, activation='relu')(encoded)\n",
    "decoded = Dense(8, activation='relu')(decoded)\n",
    "decoded = Dense(16, activation='relu')(decoded)\n",
    "decoded = Dense(29, activation='sigmoid')(decoded)"
   ]
  },
  {
   "cell_type": "code",
   "execution_count": 126,
   "metadata": {
    "collapsed": true
   },
   "outputs": [],
   "source": [
    "import numpy as np"
   ]
  },
  {
   "cell_type": "code",
   "execution_count": 127,
   "metadata": {
    "collapsed": true
   },
   "outputs": [],
   "source": [
    "train_size = int(len(df) * 0.8)\n",
    "test_size = len(df) - train_size\n",
    "\n",
    "train_set = df.head(train_size).as_matrix().astype('float32') / df.values.max()\n",
    "test_set = df.tail(test_size).as_matrix().astype('float32') / df.values.max()"
   ]
  },
  {
   "cell_type": "code",
   "execution_count": 130,
   "metadata": {},
   "outputs": [
    {
     "data": {
      "text/plain": [
       "<keras.callbacks.History at 0x7f113d79afd0>"
      ]
     },
     "execution_count": 130,
     "metadata": {},
     "output_type": "execute_result"
    }
   ],
   "source": [
    "autoencoder = Model(input_img, decoded)\n",
    "autoencoder.compile(optimizer='adadelta', loss='binary_crossentropy')\n",
    "\n",
    "autoencoder.fit(train_set, train_set,\n",
    "                epochs=100,\n",
    "                batch_size=256,\n",
    "                shuffle=True,\n",
    "                validation_data=(test_set, test_set),\n",
    "                verbose=0)"
   ]
  },
  {
   "cell_type": "code",
   "execution_count": 131,
   "metadata": {},
   "outputs": [
    {
     "name": "stdout",
     "output_type": "stream",
     "text": [
      "214/214 [==============================] - 0s 53us/step\b\b\b\b\b\b\b\b\b\b\b\b\b\b\b\b\b\b\b\b\b\b\b\b\b\b\b\b\b\b\b\b\b\b\b\b\b\b\b\b\b\b\b\b\b\n"
     ]
    },
    {
     "data": {
      "text/plain": [
       "0.663598463357052"
      ]
     },
     "execution_count": 131,
     "metadata": {},
     "output_type": "execute_result"
    }
   ],
   "source": [
    "autoencoder.evaluate(train_set, train_set)"
   ]
  },
  {
   "cell_type": "markdown",
   "metadata": {},
   "source": [
    "# Time Series Forecasting using LSTM"
   ]
  },
  {
   "cell_type": "code",
   "execution_count": null,
   "metadata": {
    "collapsed": true
   },
   "outputs": [],
   "source": [
    "df['mean'] = df.mean(axis=1)"
   ]
  },
  {
   "cell_type": "code",
   "execution_count": null,
   "metadata": {
    "collapsed": true
   },
   "outputs": [],
   "source": [
    "df.head()"
   ]
  },
  {
   "cell_type": "code",
   "execution_count": null,
   "metadata": {
    "collapsed": true
   },
   "outputs": [],
   "source": [
    "df['mean'].plot()"
   ]
  },
  {
   "cell_type": "code",
   "execution_count": null,
   "metadata": {
    "collapsed": true
   },
   "outputs": [],
   "source": [
    "split_date = '2018-03-29 19:21:00'\n",
    "train = df.loc[:split_date, ['mean']]\n",
    "test = df.loc[split_date:, ['mean']]"
   ]
  },
  {
   "cell_type": "code",
   "execution_count": null,
   "metadata": {
    "collapsed": true
   },
   "outputs": [],
   "source": [
    "from sklearn.preprocessing import MinMaxScaler\n",
    "\n",
    "sc = MinMaxScaler()\n",
    "\n",
    "train_sc = sc.fit_transform(train)\n",
    "test_sc = sc.transform(test)"
   ]
  },
  {
   "cell_type": "code",
   "execution_count": null,
   "metadata": {
    "collapsed": true
   },
   "outputs": [],
   "source": [
    "X_train = train_sc[:-1]\n",
    "y_train = train_sc[1:]\n",
    "\n",
    "X_test = test_sc[:-1]\n",
    "y_test = test_sc[1:]"
   ]
  },
  {
   "cell_type": "code",
   "execution_count": null,
   "metadata": {
    "collapsed": true
   },
   "outputs": [],
   "source": [
    "train_sc.shape\n",
    "\n",
    "train_sc_df = pd.DataFrame(train_sc, columns=['Scaled'], index=train.index)\n",
    "test_sc_df = pd.DataFrame(test_sc, columns=['Scaled'], index=test.index)\n",
    "train_sc_df.head()"
   ]
  },
  {
   "cell_type": "code",
   "execution_count": null,
   "metadata": {
    "collapsed": true
   },
   "outputs": [],
   "source": [
    "for s in range(1, 13):\n",
    "    train_sc_df['shift_{}'.format(s)] = train_sc_df['Scaled'].shift(s)\n",
    "    test_sc_df['shift_{}'.format(s)] = test_sc_df['Scaled'].shift(s)"
   ]
  },
  {
   "cell_type": "code",
   "execution_count": null,
   "metadata": {
    "collapsed": true
   },
   "outputs": [],
   "source": [
    "X_train = train_sc_df.dropna().drop('Scaled', axis=1)\n",
    "y_train = train_sc_df.dropna()[['Scaled']]\n",
    "\n",
    "X_test = test_sc_df.dropna().drop('Scaled', axis=1)\n",
    "y_test = test_sc_df.dropna()[['Scaled']]\n",
    "\n",
    "X_train.head()"
   ]
  },
  {
   "cell_type": "code",
   "execution_count": null,
   "metadata": {
    "collapsed": true
   },
   "outputs": [],
   "source": [
    "X_train = X_train.values\n",
    "X_test= X_test.values\n",
    "\n",
    "y_train = y_train.values\n",
    "y_test = y_test.values\n",
    "\n",
    "X_train_t = X_train.reshape(X_train.shape[0], 1, 12)\n",
    "X_test_t = X_test.reshape(X_test.shape[0], 1, 12)"
   ]
  },
  {
   "cell_type": "code",
   "execution_count": null,
   "metadata": {
    "collapsed": true
   },
   "outputs": [],
   "source": [
    "X_train_t.shape"
   ]
  },
  {
   "cell_type": "code",
   "execution_count": null,
   "metadata": {
    "collapsed": true
   },
   "outputs": [],
   "source": [
    "K.clear_session()\n",
    "model = Sequential()\n",
    "\n",
    "model.add(LSTM(6, input_shape=(1, 12)))\n",
    "\n",
    "model.add(Dense(1))\n",
    "\n",
    "model.compile(loss='mean_squared_error', optimizer='adam')\n",
    "\n",
    "model.summary()"
   ]
  },
  {
   "cell_type": "code",
   "execution_count": null,
   "metadata": {
    "collapsed": true
   },
   "outputs": [],
   "source": [
    "model.fit(X_train_t, y_train, epochs=100,\n",
    "          batch_size=1, verbose=0)"
   ]
  },
  {
   "cell_type": "code",
   "execution_count": null,
   "metadata": {
    "collapsed": true
   },
   "outputs": [],
   "source": [
    "y_pred = model.predict(X_test_t)\n",
    "plt.plot(y_test)\n",
    "plt.plot(y_pred)"
   ]
  },
  {
   "cell_type": "code",
   "execution_count": null,
   "metadata": {
    "collapsed": true
   },
   "outputs": [],
   "source": [
    "# save model and test if saved sucessfully\n",
    "model_json = model.to_json()\n",
    "with open(\"model.json\", \"w\") as json_file:\n",
    "    json_file.write(model_json)\n",
    "model.save_weights(\"model.h5\")\n",
    "\n",
    "from keras.models import model_from_json\n",
    "\n",
    "json_file = open('model.json', 'r')\n",
    "loaded_model_json = json_file.read()\n",
    "json_file.close()\n",
    "potato = model_from_json(loaded_model_json)\n",
    "# load weights into new model\n",
    "potato.load_weights(\"model.h5\")\n",
    "\n",
    "y_pred = potato.predict(X_test_t)\n",
    "plt.plot(y_test)\n",
    "plt.plot(y_pred)"
   ]
  }
 ],
 "metadata": {
  "kernelspec": {
   "display_name": "Python [conda env:ztdl]",
   "language": "python",
   "name": "conda-env-ztdl-py"
  },
  "language_info": {
   "codemirror_mode": {
    "name": "ipython",
    "version": 3
   },
   "file_extension": ".py",
   "mimetype": "text/x-python",
   "name": "python",
   "nbconvert_exporter": "python",
   "pygments_lexer": "ipython3",
   "version": "3.5.4"
  }
 },
 "nbformat": 4,
 "nbformat_minor": 2
}

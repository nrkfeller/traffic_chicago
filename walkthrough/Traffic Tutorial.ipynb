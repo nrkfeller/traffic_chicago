{
 "cells": [
  {
   "cell_type": "markdown",
   "metadata": {},
   "source": [
    "# Traffic Data Analytics Tutorial\n",
    "* Companies like snapchat, nest, khanacademy, and spotify and brightcove come to google cloud because of the processing services. bigquery, dataflow, dataprep etc\n",
    "* \n",
    "* Use dataflow to build a pipeline so that we can have a google analytics system\n",
    "* Big query is a warehouse, I have all the data at my finger tips, not samples of incomplete\n",
    "* Cloud ML and dataprep. Didn't deploy a VM. we don't spend time in the data, not in the machine\n",
    "\n",
    "Desired outcomes\n",
    "* reduced time-to-answer. \"what is happening right now\" \"how did this update affect x\" \"which of my sensors are down or not currently connected\" the be able to make real time decisions\n",
    "* No ops, if things break its the fault of someone else :P\n",
    "* Give live updates to people on the road\n",
    "\n",
    "### Google Cloud Pub Sub - kafka\n",
    "technically a streaming engine. does not do processing analysis. over http or GRPC. 100MB/sec.\n",
    "\n",
    "What is pub/sub:\n",
    "* Managed, real time messaging queue service\n",
    "* Supports async one to one, one to many or many to many\n",
    "* Globally available\n",
    "* low latency - at least once\n",
    "* on demand scalability to millions of events/sec\n",
    "\n",
    "### Google Cloud Dataflow - spark, apex, fink\n",
    "Datalow is a distributed processing backend. Beam is usedas a programming model to define and execute data pipelines. Beam pipelines can run on Apex, Fink, Spark or Dataflow. Data can either be streamed of batch (bulk DB migration process) processed. Java and Python. Workers on dataflow are rebalanced to pretty much all finish at the same time! Best thing to produce aggregations.\n",
    "\n",
    "What is dataflow:\n",
    "* batch or streaming\n",
    "* unified batch and streaming processing\n",
    "* fully managed, no ops data processing\n",
    "* open source programming model (beam)\n",
    "* intelligently scales to millions of QPS\n",
    "\n",
    "Why customers use dataflow (technical perspective):\n",
    "* fully managed and auto configure\n",
    "* Auto graph optimized for best execution path\n",
    "* autoscaling mod-job\n",
    "* dynamic work rebalancing mid-job\n",
    "\n",
    "Companies using dataflow: brightcove (end to end video analytics services)\n",
    "\n",
    "### BigQuery - Data warehouse\n",
    "Warehhouse for adhoc analysis of all of your data. 100'000 rows per second per table. can come from pubsub or dataflow. does not understand late arriving data. use dataflow for preaggregating. just load or stream data into bigquery. Ingest everything into big query. penny per gig. \n",
    "\n",
    "What is bigQuery:\n",
    "* folly managed data warehouse\n",
    "* fast, petabyte scale SQL like queries\n",
    "* Provides streaming infest to unbounded data sets\n",
    "* encrypted durable highly available\n",
    "* virtually unlimited resources on pay for what you use\n",
    "\n",
    "### Bigtable - Cassandra\n",
    "If you have some often changing data, like leaderboard or something like this. '\n",
    "\n",
    "# Have Fun!"
   ]
  },
  {
   "cell_type": "markdown",
   "metadata": {
    "collapsed": true
   },
   "source": [
    "# Codelab style walkthrough\n",
    "Use cases\n",
    "* real time feeback\n",
    "* update on lane slowdowns\n",
    "* map of congestion!\n",
    "\n",
    "Important questions\n",
    "1. What data is sent: chicago traffic data\n",
    "2. Current traffic conditions to power re-routing decisons, average speed and anomaly detection to understan which lanes are slower\n",
    "3. what analytics queries do you run: results with min and max and averages. comparing averages between lanes.\n",
    "4. near real time on lane slowdowns, maps with makers showing traffic congestion\n",
    "\n",
    "Datasources\n",
    "* tweets on how unhappy people are\n",
    "* weather data\n",
    "* chicago traffic data\n"
   ]
  },
  {
   "cell_type": "markdown",
   "metadata": {},
   "source": [
    "# Setup Pub/Sub\n",
    "* https://google-cloud-python.readthedocs.io/en/0.9.0/pubsub-usage.html\n",
    "\n",
    "Grab data from Chicago Traffic API:\n",
    "* https://data.cityofchicago.org/Transportation/Chicago-Traffic-Tracker-Congestion-Estimates-by-Se/n4j6-wkkf\n",
    "\n",
    "Create app engine app that GET's the traffic data and sends it to google cloud's pubsub service.\n",
    "```\n",
    "git clone\n",
    "```\n",
    "\n",
    "Make sure to be logged into google to test it out\n",
    "```\n",
    "gcloud auth application-default login\n",
    "```\n",
    "\n",
    "Run the script to make sure everything is working fine\n",
    "```\n",
    "python publish_traffic.py\n",
    "```\n",
    "\n",
    "This should take a few seconds to boot up. Then make sure that messages are actually getting through to the pubsub service.\n",
    "```\n",
    "gcloud beta pubsub subscriptions create --topic chicago chisub1\n",
    "gcloud beta pubsub subscriptions pull --auto-ack chisub1\n",
    "```\n",
    "\n",
    "If you see a message with DATA, MESSAGE_ID and ATTRIBUTES, everything is working.\n",
    "\n",
    "Now deploy this little app to appengine. The cron job will make sure that the endpoint gets it every 15 minutes.\n",
    "```\n",
    "gcloud app deploy app.yaml cron.yaml\n",
    "```"
   ]
  },
  {
   "cell_type": "markdown",
   "metadata": {},
   "source": [
    "# Setup Bigquery"
   ]
  },
  {
   "cell_type": "markdown",
   "metadata": {},
   "source": [
    "# Setup Dataflow"
   ]
  },
  {
   "cell_type": "markdown",
   "metadata": {},
   "source": [
    "# Setup Webapp"
   ]
  },
  {
   "cell_type": "markdown",
   "metadata": {},
   "source": [
    "# Dataflow"
   ]
  },
  {
   "cell_type": "markdown",
   "metadata": {},
   "source": [
    "# Data Studio"
   ]
  },
  {
   "cell_type": "markdown",
   "metadata": {},
   "source": []
  },
  {
   "cell_type": "markdown",
   "metadata": {},
   "source": [
    "# References!\n",
    "* https://www.youtube.com/watch?v=NNNH2M5SvjI\n",
    "* Apache Beam: https://en.wikipedia.org/wiki/Apache_Beam\n",
    "* pubsub -> dataflow -> bigquery : https://www.youtube.com/watch?v=kdmAiQeYGgE\n",
    "* Pub SUb\n",
    "* Dataflow\n",
    "* BigQuery\n",
    "* Datastudio: https://www.youtube.com/watch?v=FwpjBp-MgHk\n",
    "* big data with GCP: https://cloud.google.com/solutions/big-data/stream-analytics/\n",
    "* \n",
    "* bigquery versus bigtable"
   ]
  },
  {
   "cell_type": "code",
   "execution_count": null,
   "metadata": {},
   "outputs": [],
   "source": []
  },
  {
   "cell_type": "code",
   "execution_count": null,
   "metadata": {
    "collapsed": true
   },
   "outputs": [],
   "source": []
  }
 ],
 "metadata": {
  "kernelspec": {
   "display_name": "Python 3",
   "language": "python",
   "name": "python3"
  },
  "language_info": {
   "codemirror_mode": {
    "name": "ipython",
    "version": 3
   },
   "file_extension": ".py",
   "mimetype": "text/x-python",
   "name": "python",
   "nbconvert_exporter": "python",
   "pygments_lexer": "ipython3",
   "version": "3.6.2"
  }
 },
 "nbformat": 4,
 "nbformat_minor": 2
}
